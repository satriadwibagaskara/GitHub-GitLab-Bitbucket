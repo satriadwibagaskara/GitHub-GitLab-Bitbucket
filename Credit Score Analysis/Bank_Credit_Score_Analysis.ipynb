{
  "cells": [
    {
      "cell_type": "markdown",
      "metadata": {
        "id": "P80c0xVc-qUN"
      },
      "source": [
        "## Analyzing borrowers’ risk of defaulting.\n",
        "\n",
        "This project is to prepare a report for a bank’s loan division. We’ll need to find out if a customer’s marital status and number of children has an impact on whether they will default on a loan. The bank already has some data on customers’ credit worthiness.\n",
        "\n",
        "Our report will be considered when building a credit scoring of a potential customer. A **credit scoring** is used to evaluate the ability of a potential borrower to repay their loan."
      ]
    },
    {
      "cell_type": "code",
      "execution_count": 1,
      "metadata": {
        "id": "j_C-4A2B-qUO"
      },
      "outputs": [],
      "source": [
        "import pandas as pd #import pandas library as 'pd'"
      ]
    },
    {
      "cell_type": "code",
      "execution_count": 3,
      "metadata": {
        "colab": {
          "base_uri": "https://localhost:8080/"
        },
        "id": "kcXBt8Bn-qUQ",
        "outputId": "59513401-68f1-4d00-8e8d-a3713ab35be2"
      },
      "outputs": [
        {
          "output_type": "stream",
          "name": "stdout",
          "text": [
            "Mounted at /content/gdrive\n",
            "   children  days_employed  dob_years            education  education_id  \\\n",
            "0         1   -8437.673028         42    bachelor's degree             0   \n",
            "1         1   -4024.803754         36  secondary education             1   \n",
            "2         0   -5623.422610         33  Secondary Education             1   \n",
            "3         3   -4124.747207         32  secondary education             1   \n",
            "4         0  340266.072047         53  secondary education             1   \n",
            "5         0    -926.185831         27    bachelor's degree             0   \n",
            "6         0   -2879.202052         43    bachelor's degree             0   \n",
            "7         0    -152.779569         50  SECONDARY EDUCATION             1   \n",
            "8         2   -6929.865299         35    BACHELOR'S DEGREE             0   \n",
            "9         0   -2188.756445         41  secondary education             1   \n",
            "\n",
            "       family_status  family_status_id gender income_type  debt  total_income  \\\n",
            "0            married                 0      F    employee     0     40620.102   \n",
            "1            married                 0      F    employee     0     17932.802   \n",
            "2            married                 0      M    employee     0     23341.752   \n",
            "3            married                 0      M    employee     0     42820.568   \n",
            "4  civil partnership                 1      F     retiree     0     25378.572   \n",
            "5  civil partnership                 1      M    business     0     40922.170   \n",
            "6            married                 0      F    business     0     38484.156   \n",
            "7            married                 0      M    employee     0     21731.829   \n",
            "8  civil partnership                 1      F    employee     0     15337.093   \n",
            "9            married                 0      M    employee     0     23108.150   \n",
            "\n",
            "                               purpose  \n",
            "0                purchase of the house  \n",
            "1                         car purchase  \n",
            "2                purchase of the house  \n",
            "3              supplementary education  \n",
            "4                    to have a wedding  \n",
            "5                purchase of the house  \n",
            "6                 housing transactions  \n",
            "7                            education  \n",
            "8                     having a wedding  \n",
            "9  purchase of the house for my family  \n"
          ]
        }
      ],
      "source": [
        "import matplotlib.pyplot as plt\n",
        "\n",
        "from google.colab import drive\n",
        "drive.mount('/content/gdrive')\n",
        "\n",
        "cs = pd.read_csv('/content/gdrive/My Drive/Colab Notebooks/dataset/credit_scoring_eng.csv')\n",
        "print(cs.head(10)) #read credit score 'credit_scoring_eng.csv' file, and saves it to 'cs' variable"
      ]
    },
    {
      "cell_type": "markdown",
      "metadata": {
        "id": "w5_9AnrZ-qUR"
      },
      "source": [
        "## Data Exploration\n",
        "\n",
        "**Data Description**\n",
        "- `children` - number of children\n",
        "- `days_employed` - employee experience\n",
        "- `dob_years` - customer's age\n",
        "- `education` - customer's education level\n",
        "- `education_id` - identifier of customer's education\n",
        "- `family_status` - customer's martial status\n",
        "- `family_status_id` - identifier for customer's martial status\n",
        "- `gender` - customer'gender\n",
        "- `income_type` - customer's income type\n",
        "- `debt` - customer has ever defaulted on a loan\n",
        "- `total_income` - customer's monthly income\n",
        "- `purpose` - reason for taking a loan\n",
        "\n"
      ]
    },
    {
      "cell_type": "code",
      "execution_count": 4,
      "metadata": {
        "colab": {
          "base_uri": "https://localhost:8080/"
        },
        "id": "63KFUwzf-qUS",
        "outputId": "06c9964e-1c0a-4870-dc02-5f7f96e7763c"
      },
      "outputs": [
        {
          "output_type": "stream",
          "name": "stdout",
          "text": [
            "<class 'pandas.core.frame.DataFrame'>\n",
            "RangeIndex: 21525 entries, 0 to 21524\n",
            "Data columns (total 12 columns):\n",
            " #   Column            Non-Null Count  Dtype  \n",
            "---  ------            --------------  -----  \n",
            " 0   children          21525 non-null  int64  \n",
            " 1   days_employed     19351 non-null  float64\n",
            " 2   dob_years         21525 non-null  int64  \n",
            " 3   education         21525 non-null  object \n",
            " 4   education_id      21525 non-null  int64  \n",
            " 5   family_status     21525 non-null  object \n",
            " 6   family_status_id  21525 non-null  int64  \n",
            " 7   gender            21525 non-null  object \n",
            " 8   income_type       21525 non-null  object \n",
            " 9   debt              21525 non-null  int64  \n",
            " 10  total_income      19351 non-null  float64\n",
            " 11  purpose           21525 non-null  object \n",
            "dtypes: float64(2), int64(5), object(5)\n",
            "memory usage: 2.0+ MB\n"
          ]
        }
      ],
      "source": [
        "cs.info() #get information about number of rows and columns from the dataset "
      ]
    },
    {
      "cell_type": "code",
      "execution_count": 5,
      "metadata": {
        "colab": {
          "base_uri": "https://localhost:8080/",
          "height": 206
        },
        "id": "xm4WdAu--qUU",
        "outputId": "951ab6a8-dcca-4937-8380-2a8aa0021428"
      },
      "outputs": [
        {
          "output_type": "execute_result",
          "data": {
            "text/plain": [
              "   children  days_employed  dob_years            education  education_id  \\\n",
              "0         1   -8437.673028         42    bachelor's degree             0   \n",
              "1         1   -4024.803754         36  secondary education             1   \n",
              "2         0   -5623.422610         33  Secondary Education             1   \n",
              "3         3   -4124.747207         32  secondary education             1   \n",
              "4         0  340266.072047         53  secondary education             1   \n",
              "\n",
              "       family_status  family_status_id gender income_type  debt  total_income  \\\n",
              "0            married                 0      F    employee     0     40620.102   \n",
              "1            married                 0      F    employee     0     17932.802   \n",
              "2            married                 0      M    employee     0     23341.752   \n",
              "3            married                 0      M    employee     0     42820.568   \n",
              "4  civil partnership                 1      F     retiree     0     25378.572   \n",
              "\n",
              "                   purpose  \n",
              "0    purchase of the house  \n",
              "1             car purchase  \n",
              "2    purchase of the house  \n",
              "3  supplementary education  \n",
              "4        to have a wedding  "
            ],
            "text/html": [
              "\n",
              "  <div id=\"df-eca3af57-aee1-446a-9dc7-071955d63782\">\n",
              "    <div class=\"colab-df-container\">\n",
              "      <div>\n",
              "<style scoped>\n",
              "    .dataframe tbody tr th:only-of-type {\n",
              "        vertical-align: middle;\n",
              "    }\n",
              "\n",
              "    .dataframe tbody tr th {\n",
              "        vertical-align: top;\n",
              "    }\n",
              "\n",
              "    .dataframe thead th {\n",
              "        text-align: right;\n",
              "    }\n",
              "</style>\n",
              "<table border=\"1\" class=\"dataframe\">\n",
              "  <thead>\n",
              "    <tr style=\"text-align: right;\">\n",
              "      <th></th>\n",
              "      <th>children</th>\n",
              "      <th>days_employed</th>\n",
              "      <th>dob_years</th>\n",
              "      <th>education</th>\n",
              "      <th>education_id</th>\n",
              "      <th>family_status</th>\n",
              "      <th>family_status_id</th>\n",
              "      <th>gender</th>\n",
              "      <th>income_type</th>\n",
              "      <th>debt</th>\n",
              "      <th>total_income</th>\n",
              "      <th>purpose</th>\n",
              "    </tr>\n",
              "  </thead>\n",
              "  <tbody>\n",
              "    <tr>\n",
              "      <th>0</th>\n",
              "      <td>1</td>\n",
              "      <td>-8437.673028</td>\n",
              "      <td>42</td>\n",
              "      <td>bachelor's degree</td>\n",
              "      <td>0</td>\n",
              "      <td>married</td>\n",
              "      <td>0</td>\n",
              "      <td>F</td>\n",
              "      <td>employee</td>\n",
              "      <td>0</td>\n",
              "      <td>40620.102</td>\n",
              "      <td>purchase of the house</td>\n",
              "    </tr>\n",
              "    <tr>\n",
              "      <th>1</th>\n",
              "      <td>1</td>\n",
              "      <td>-4024.803754</td>\n",
              "      <td>36</td>\n",
              "      <td>secondary education</td>\n",
              "      <td>1</td>\n",
              "      <td>married</td>\n",
              "      <td>0</td>\n",
              "      <td>F</td>\n",
              "      <td>employee</td>\n",
              "      <td>0</td>\n",
              "      <td>17932.802</td>\n",
              "      <td>car purchase</td>\n",
              "    </tr>\n",
              "    <tr>\n",
              "      <th>2</th>\n",
              "      <td>0</td>\n",
              "      <td>-5623.422610</td>\n",
              "      <td>33</td>\n",
              "      <td>Secondary Education</td>\n",
              "      <td>1</td>\n",
              "      <td>married</td>\n",
              "      <td>0</td>\n",
              "      <td>M</td>\n",
              "      <td>employee</td>\n",
              "      <td>0</td>\n",
              "      <td>23341.752</td>\n",
              "      <td>purchase of the house</td>\n",
              "    </tr>\n",
              "    <tr>\n",
              "      <th>3</th>\n",
              "      <td>3</td>\n",
              "      <td>-4124.747207</td>\n",
              "      <td>32</td>\n",
              "      <td>secondary education</td>\n",
              "      <td>1</td>\n",
              "      <td>married</td>\n",
              "      <td>0</td>\n",
              "      <td>M</td>\n",
              "      <td>employee</td>\n",
              "      <td>0</td>\n",
              "      <td>42820.568</td>\n",
              "      <td>supplementary education</td>\n",
              "    </tr>\n",
              "    <tr>\n",
              "      <th>4</th>\n",
              "      <td>0</td>\n",
              "      <td>340266.072047</td>\n",
              "      <td>53</td>\n",
              "      <td>secondary education</td>\n",
              "      <td>1</td>\n",
              "      <td>civil partnership</td>\n",
              "      <td>1</td>\n",
              "      <td>F</td>\n",
              "      <td>retiree</td>\n",
              "      <td>0</td>\n",
              "      <td>25378.572</td>\n",
              "      <td>to have a wedding</td>\n",
              "    </tr>\n",
              "  </tbody>\n",
              "</table>\n",
              "</div>\n",
              "      <button class=\"colab-df-convert\" onclick=\"convertToInteractive('df-eca3af57-aee1-446a-9dc7-071955d63782')\"\n",
              "              title=\"Convert this dataframe to an interactive table.\"\n",
              "              style=\"display:none;\">\n",
              "        \n",
              "  <svg xmlns=\"http://www.w3.org/2000/svg\" height=\"24px\"viewBox=\"0 0 24 24\"\n",
              "       width=\"24px\">\n",
              "    <path d=\"M0 0h24v24H0V0z\" fill=\"none\"/>\n",
              "    <path d=\"M18.56 5.44l.94 2.06.94-2.06 2.06-.94-2.06-.94-.94-2.06-.94 2.06-2.06.94zm-11 1L8.5 8.5l.94-2.06 2.06-.94-2.06-.94L8.5 2.5l-.94 2.06-2.06.94zm10 10l.94 2.06.94-2.06 2.06-.94-2.06-.94-.94-2.06-.94 2.06-2.06.94z\"/><path d=\"M17.41 7.96l-1.37-1.37c-.4-.4-.92-.59-1.43-.59-.52 0-1.04.2-1.43.59L10.3 9.45l-7.72 7.72c-.78.78-.78 2.05 0 2.83L4 21.41c.39.39.9.59 1.41.59.51 0 1.02-.2 1.41-.59l7.78-7.78 2.81-2.81c.8-.78.8-2.07 0-2.86zM5.41 20L4 18.59l7.72-7.72 1.47 1.35L5.41 20z\"/>\n",
              "  </svg>\n",
              "      </button>\n",
              "      \n",
              "  <style>\n",
              "    .colab-df-container {\n",
              "      display:flex;\n",
              "      flex-wrap:wrap;\n",
              "      gap: 12px;\n",
              "    }\n",
              "\n",
              "    .colab-df-convert {\n",
              "      background-color: #E8F0FE;\n",
              "      border: none;\n",
              "      border-radius: 50%;\n",
              "      cursor: pointer;\n",
              "      display: none;\n",
              "      fill: #1967D2;\n",
              "      height: 32px;\n",
              "      padding: 0 0 0 0;\n",
              "      width: 32px;\n",
              "    }\n",
              "\n",
              "    .colab-df-convert:hover {\n",
              "      background-color: #E2EBFA;\n",
              "      box-shadow: 0px 1px 2px rgba(60, 64, 67, 0.3), 0px 1px 3px 1px rgba(60, 64, 67, 0.15);\n",
              "      fill: #174EA6;\n",
              "    }\n",
              "\n",
              "    [theme=dark] .colab-df-convert {\n",
              "      background-color: #3B4455;\n",
              "      fill: #D2E3FC;\n",
              "    }\n",
              "\n",
              "    [theme=dark] .colab-df-convert:hover {\n",
              "      background-color: #434B5C;\n",
              "      box-shadow: 0px 1px 3px 1px rgba(0, 0, 0, 0.15);\n",
              "      filter: drop-shadow(0px 1px 2px rgba(0, 0, 0, 0.3));\n",
              "      fill: #FFFFFF;\n",
              "    }\n",
              "  </style>\n",
              "\n",
              "      <script>\n",
              "        const buttonEl =\n",
              "          document.querySelector('#df-eca3af57-aee1-446a-9dc7-071955d63782 button.colab-df-convert');\n",
              "        buttonEl.style.display =\n",
              "          google.colab.kernel.accessAllowed ? 'block' : 'none';\n",
              "\n",
              "        async function convertToInteractive(key) {\n",
              "          const element = document.querySelector('#df-eca3af57-aee1-446a-9dc7-071955d63782');\n",
              "          const dataTable =\n",
              "            await google.colab.kernel.invokeFunction('convertToInteractive',\n",
              "                                                     [key], {});\n",
              "          if (!dataTable) return;\n",
              "\n",
              "          const docLinkHtml = 'Like what you see? Visit the ' +\n",
              "            '<a target=\"_blank\" href=https://colab.research.google.com/notebooks/data_table.ipynb>data table notebook</a>'\n",
              "            + ' to learn more about interactive tables.';\n",
              "          element.innerHTML = '';\n",
              "          dataTable['output_type'] = 'display_data';\n",
              "          await google.colab.output.renderOutput(dataTable, element);\n",
              "          const docLink = document.createElement('div');\n",
              "          docLink.innerHTML = docLinkHtml;\n",
              "          element.appendChild(docLink);\n",
              "        }\n",
              "      </script>\n",
              "    </div>\n",
              "  </div>\n",
              "  "
            ]
          },
          "metadata": {},
          "execution_count": 5
        }
      ],
      "source": [
        "cs.head(5) #display the first five rows"
      ]
    },
    {
      "cell_type": "markdown",
      "metadata": {
        "id": "Rgo4cQkx-qUW"
      },
      "source": [
        "There is data that is a bit problematic\n",
        "- days_employee which should make how long they worked, but there are days where the value is negative, but for now we don't know why it is negative"
      ]
    },
    {
      "cell_type": "code",
      "execution_count": 6,
      "metadata": {
        "colab": {
          "base_uri": "https://localhost:8080/",
          "height": 300
        },
        "id": "tK3pOCHn-qUX",
        "outputId": "71311478-7e90-4253-f470-3342d86ae56b"
      },
      "outputs": [
        {
          "output_type": "execute_result",
          "data": {
            "text/plain": [
              "           children  days_employed     dob_years  education_id  \\\n",
              "count  21525.000000   19351.000000  21525.000000  21525.000000   \n",
              "mean       0.538908   63046.497661     43.293380      0.817236   \n",
              "std        1.381587  140827.311974     12.574584      0.548138   \n",
              "min       -1.000000  -18388.949901      0.000000      0.000000   \n",
              "25%        0.000000   -2747.423625     33.000000      1.000000   \n",
              "50%        0.000000   -1203.369529     42.000000      1.000000   \n",
              "75%        1.000000    -291.095954     53.000000      1.000000   \n",
              "max       20.000000  401755.400475     75.000000      4.000000   \n",
              "\n",
              "       family_status_id          debt   total_income  \n",
              "count      21525.000000  21525.000000   19351.000000  \n",
              "mean           0.972544      0.080883   26787.568355  \n",
              "std            1.420324      0.272661   16475.450632  \n",
              "min            0.000000      0.000000    3306.762000  \n",
              "25%            0.000000      0.000000   16488.504500  \n",
              "50%            0.000000      0.000000   23202.870000  \n",
              "75%            1.000000      0.000000   32549.611000  \n",
              "max            4.000000      1.000000  362496.645000  "
            ],
            "text/html": [
              "\n",
              "  <div id=\"df-d6e5c9ff-0f01-4574-849a-80c734c03def\">\n",
              "    <div class=\"colab-df-container\">\n",
              "      <div>\n",
              "<style scoped>\n",
              "    .dataframe tbody tr th:only-of-type {\n",
              "        vertical-align: middle;\n",
              "    }\n",
              "\n",
              "    .dataframe tbody tr th {\n",
              "        vertical-align: top;\n",
              "    }\n",
              "\n",
              "    .dataframe thead th {\n",
              "        text-align: right;\n",
              "    }\n",
              "</style>\n",
              "<table border=\"1\" class=\"dataframe\">\n",
              "  <thead>\n",
              "    <tr style=\"text-align: right;\">\n",
              "      <th></th>\n",
              "      <th>children</th>\n",
              "      <th>days_employed</th>\n",
              "      <th>dob_years</th>\n",
              "      <th>education_id</th>\n",
              "      <th>family_status_id</th>\n",
              "      <th>debt</th>\n",
              "      <th>total_income</th>\n",
              "    </tr>\n",
              "  </thead>\n",
              "  <tbody>\n",
              "    <tr>\n",
              "      <th>count</th>\n",
              "      <td>21525.000000</td>\n",
              "      <td>19351.000000</td>\n",
              "      <td>21525.000000</td>\n",
              "      <td>21525.000000</td>\n",
              "      <td>21525.000000</td>\n",
              "      <td>21525.000000</td>\n",
              "      <td>19351.000000</td>\n",
              "    </tr>\n",
              "    <tr>\n",
              "      <th>mean</th>\n",
              "      <td>0.538908</td>\n",
              "      <td>63046.497661</td>\n",
              "      <td>43.293380</td>\n",
              "      <td>0.817236</td>\n",
              "      <td>0.972544</td>\n",
              "      <td>0.080883</td>\n",
              "      <td>26787.568355</td>\n",
              "    </tr>\n",
              "    <tr>\n",
              "      <th>std</th>\n",
              "      <td>1.381587</td>\n",
              "      <td>140827.311974</td>\n",
              "      <td>12.574584</td>\n",
              "      <td>0.548138</td>\n",
              "      <td>1.420324</td>\n",
              "      <td>0.272661</td>\n",
              "      <td>16475.450632</td>\n",
              "    </tr>\n",
              "    <tr>\n",
              "      <th>min</th>\n",
              "      <td>-1.000000</td>\n",
              "      <td>-18388.949901</td>\n",
              "      <td>0.000000</td>\n",
              "      <td>0.000000</td>\n",
              "      <td>0.000000</td>\n",
              "      <td>0.000000</td>\n",
              "      <td>3306.762000</td>\n",
              "    </tr>\n",
              "    <tr>\n",
              "      <th>25%</th>\n",
              "      <td>0.000000</td>\n",
              "      <td>-2747.423625</td>\n",
              "      <td>33.000000</td>\n",
              "      <td>1.000000</td>\n",
              "      <td>0.000000</td>\n",
              "      <td>0.000000</td>\n",
              "      <td>16488.504500</td>\n",
              "    </tr>\n",
              "    <tr>\n",
              "      <th>50%</th>\n",
              "      <td>0.000000</td>\n",
              "      <td>-1203.369529</td>\n",
              "      <td>42.000000</td>\n",
              "      <td>1.000000</td>\n",
              "      <td>0.000000</td>\n",
              "      <td>0.000000</td>\n",
              "      <td>23202.870000</td>\n",
              "    </tr>\n",
              "    <tr>\n",
              "      <th>75%</th>\n",
              "      <td>1.000000</td>\n",
              "      <td>-291.095954</td>\n",
              "      <td>53.000000</td>\n",
              "      <td>1.000000</td>\n",
              "      <td>1.000000</td>\n",
              "      <td>0.000000</td>\n",
              "      <td>32549.611000</td>\n",
              "    </tr>\n",
              "    <tr>\n",
              "      <th>max</th>\n",
              "      <td>20.000000</td>\n",
              "      <td>401755.400475</td>\n",
              "      <td>75.000000</td>\n",
              "      <td>4.000000</td>\n",
              "      <td>4.000000</td>\n",
              "      <td>1.000000</td>\n",
              "      <td>362496.645000</td>\n",
              "    </tr>\n",
              "  </tbody>\n",
              "</table>\n",
              "</div>\n",
              "      <button class=\"colab-df-convert\" onclick=\"convertToInteractive('df-d6e5c9ff-0f01-4574-849a-80c734c03def')\"\n",
              "              title=\"Convert this dataframe to an interactive table.\"\n",
              "              style=\"display:none;\">\n",
              "        \n",
              "  <svg xmlns=\"http://www.w3.org/2000/svg\" height=\"24px\"viewBox=\"0 0 24 24\"\n",
              "       width=\"24px\">\n",
              "    <path d=\"M0 0h24v24H0V0z\" fill=\"none\"/>\n",
              "    <path d=\"M18.56 5.44l.94 2.06.94-2.06 2.06-.94-2.06-.94-.94-2.06-.94 2.06-2.06.94zm-11 1L8.5 8.5l.94-2.06 2.06-.94-2.06-.94L8.5 2.5l-.94 2.06-2.06.94zm10 10l.94 2.06.94-2.06 2.06-.94-2.06-.94-.94-2.06-.94 2.06-2.06.94z\"/><path d=\"M17.41 7.96l-1.37-1.37c-.4-.4-.92-.59-1.43-.59-.52 0-1.04.2-1.43.59L10.3 9.45l-7.72 7.72c-.78.78-.78 2.05 0 2.83L4 21.41c.39.39.9.59 1.41.59.51 0 1.02-.2 1.41-.59l7.78-7.78 2.81-2.81c.8-.78.8-2.07 0-2.86zM5.41 20L4 18.59l7.72-7.72 1.47 1.35L5.41 20z\"/>\n",
              "  </svg>\n",
              "      </button>\n",
              "      \n",
              "  <style>\n",
              "    .colab-df-container {\n",
              "      display:flex;\n",
              "      flex-wrap:wrap;\n",
              "      gap: 12px;\n",
              "    }\n",
              "\n",
              "    .colab-df-convert {\n",
              "      background-color: #E8F0FE;\n",
              "      border: none;\n",
              "      border-radius: 50%;\n",
              "      cursor: pointer;\n",
              "      display: none;\n",
              "      fill: #1967D2;\n",
              "      height: 32px;\n",
              "      padding: 0 0 0 0;\n",
              "      width: 32px;\n",
              "    }\n",
              "\n",
              "    .colab-df-convert:hover {\n",
              "      background-color: #E2EBFA;\n",
              "      box-shadow: 0px 1px 2px rgba(60, 64, 67, 0.3), 0px 1px 3px 1px rgba(60, 64, 67, 0.15);\n",
              "      fill: #174EA6;\n",
              "    }\n",
              "\n",
              "    [theme=dark] .colab-df-convert {\n",
              "      background-color: #3B4455;\n",
              "      fill: #D2E3FC;\n",
              "    }\n",
              "\n",
              "    [theme=dark] .colab-df-convert:hover {\n",
              "      background-color: #434B5C;\n",
              "      box-shadow: 0px 1px 3px 1px rgba(0, 0, 0, 0.15);\n",
              "      filter: drop-shadow(0px 1px 2px rgba(0, 0, 0, 0.3));\n",
              "      fill: #FFFFFF;\n",
              "    }\n",
              "  </style>\n",
              "\n",
              "      <script>\n",
              "        const buttonEl =\n",
              "          document.querySelector('#df-d6e5c9ff-0f01-4574-849a-80c734c03def button.colab-df-convert');\n",
              "        buttonEl.style.display =\n",
              "          google.colab.kernel.accessAllowed ? 'block' : 'none';\n",
              "\n",
              "        async function convertToInteractive(key) {\n",
              "          const element = document.querySelector('#df-d6e5c9ff-0f01-4574-849a-80c734c03def');\n",
              "          const dataTable =\n",
              "            await google.colab.kernel.invokeFunction('convertToInteractive',\n",
              "                                                     [key], {});\n",
              "          if (!dataTable) return;\n",
              "\n",
              "          const docLinkHtml = 'Like what you see? Visit the ' +\n",
              "            '<a target=\"_blank\" href=https://colab.research.google.com/notebooks/data_table.ipynb>data table notebook</a>'\n",
              "            + ' to learn more about interactive tables.';\n",
              "          element.innerHTML = '';\n",
              "          dataTable['output_type'] = 'display_data';\n",
              "          await google.colab.output.renderOutput(dataTable, element);\n",
              "          const docLink = document.createElement('div');\n",
              "          docLink.innerHTML = docLinkHtml;\n",
              "          element.appendChild(docLink);\n",
              "        }\n",
              "      </script>\n",
              "    </div>\n",
              "  </div>\n",
              "  "
            ]
          },
          "metadata": {},
          "execution_count": 6
        }
      ],
      "source": [
        "cs.describe() #get the data statistic"
      ]
    },
    {
      "cell_type": "markdown",
      "metadata": {
        "id": "XS4_0Kfk-qUZ"
      },
      "source": [
        "There is something missing in the two columns, namely **days_employed** and **total_income** with the same amount of missing data, namely 2174\n",
        "Some anomalous values\n",
        "- Children min -1 and max 20\n",
        "- days_employed is minus and too many max values"
      ]
    },
    {
      "cell_type": "code",
      "execution_count": 8,
      "metadata": {
        "colab": {
          "base_uri": "https://localhost:8080/"
        },
        "id": "RJFOt9WT-qUa",
        "outputId": "25735cfa-0f70-4c38-9c48-58bdbdd1682a"
      },
      "outputs": [
        {
          "output_type": "execute_result",
          "data": {
            "text/plain": [
              "children               0\n",
              "days_employed       2174\n",
              "dob_years              0\n",
              "education              0\n",
              "education_id           0\n",
              "family_status          0\n",
              "family_status_id       0\n",
              "gender                 0\n",
              "income_type            0\n",
              "debt                   0\n",
              "total_income        2174\n",
              "purpose                0\n",
              "dtype: int64"
            ]
          },
          "metadata": {},
          "execution_count": 8
        }
      ],
      "source": [
        "cs_null = cs[cs['days_employed'].isna()]\n",
        "\n",
        "cs_null.isna().sum()\n",
        "#Display the dataframe with missing value"
      ]
    },
    {
      "cell_type": "markdown",
      "metadata": {
        "id": "iNPG5fU--qUb"
      },
      "source": [
        "The missing values is simetric because both column has same the number of null object"
      ]
    },
    {
      "cell_type": "code",
      "execution_count": null,
      "metadata": {
        "id": "kwIfmBp5-qUd",
        "outputId": "2fa642e9-74d5-4ecf-990f-90e3890ef6f3"
      },
      "outputs": [
        {
          "name": "stdout",
          "output_type": "stream",
          "text": [
            "94856\n",
            "94856\n"
          ]
        },
        {
          "data": {
            "text/html": [
              "<div>\n",
              "<style scoped>\n",
              "    .dataframe tbody tr th:only-of-type {\n",
              "        vertical-align: middle;\n",
              "    }\n",
              "\n",
              "    .dataframe tbody tr th {\n",
              "        vertical-align: top;\n",
              "    }\n",
              "\n",
              "    .dataframe thead th {\n",
              "        text-align: right;\n",
              "    }\n",
              "</style>\n",
              "<table border=\"1\" class=\"dataframe\">\n",
              "  <thead>\n",
              "    <tr style=\"text-align: right;\">\n",
              "      <th></th>\n",
              "      <th>children</th>\n",
              "      <th>days_employed</th>\n",
              "      <th>dob_years</th>\n",
              "      <th>education</th>\n",
              "      <th>education_id</th>\n",
              "      <th>family_status</th>\n",
              "      <th>family_status_id</th>\n",
              "      <th>gender</th>\n",
              "      <th>income_type</th>\n",
              "      <th>debt</th>\n",
              "      <th>total_income</th>\n",
              "      <th>purpose</th>\n",
              "    </tr>\n",
              "  </thead>\n",
              "  <tbody>\n",
              "    <tr>\n",
              "      <th>12</th>\n",
              "      <td>0</td>\n",
              "      <td>NaN</td>\n",
              "      <td>65</td>\n",
              "      <td>secondary education</td>\n",
              "      <td>1</td>\n",
              "      <td>civil partnership</td>\n",
              "      <td>1</td>\n",
              "      <td>M</td>\n",
              "      <td>retiree</td>\n",
              "      <td>0</td>\n",
              "      <td>NaN</td>\n",
              "      <td>to have a wedding</td>\n",
              "    </tr>\n",
              "    <tr>\n",
              "      <th>26</th>\n",
              "      <td>0</td>\n",
              "      <td>NaN</td>\n",
              "      <td>41</td>\n",
              "      <td>secondary education</td>\n",
              "      <td>1</td>\n",
              "      <td>married</td>\n",
              "      <td>0</td>\n",
              "      <td>M</td>\n",
              "      <td>civil servant</td>\n",
              "      <td>0</td>\n",
              "      <td>NaN</td>\n",
              "      <td>education</td>\n",
              "    </tr>\n",
              "    <tr>\n",
              "      <th>29</th>\n",
              "      <td>0</td>\n",
              "      <td>NaN</td>\n",
              "      <td>63</td>\n",
              "      <td>secondary education</td>\n",
              "      <td>1</td>\n",
              "      <td>unmarried</td>\n",
              "      <td>4</td>\n",
              "      <td>F</td>\n",
              "      <td>retiree</td>\n",
              "      <td>0</td>\n",
              "      <td>NaN</td>\n",
              "      <td>building a real estate</td>\n",
              "    </tr>\n",
              "    <tr>\n",
              "      <th>41</th>\n",
              "      <td>0</td>\n",
              "      <td>NaN</td>\n",
              "      <td>50</td>\n",
              "      <td>secondary education</td>\n",
              "      <td>1</td>\n",
              "      <td>married</td>\n",
              "      <td>0</td>\n",
              "      <td>F</td>\n",
              "      <td>civil servant</td>\n",
              "      <td>0</td>\n",
              "      <td>NaN</td>\n",
              "      <td>second-hand car purchase</td>\n",
              "    </tr>\n",
              "    <tr>\n",
              "      <th>55</th>\n",
              "      <td>0</td>\n",
              "      <td>NaN</td>\n",
              "      <td>54</td>\n",
              "      <td>secondary education</td>\n",
              "      <td>1</td>\n",
              "      <td>civil partnership</td>\n",
              "      <td>1</td>\n",
              "      <td>F</td>\n",
              "      <td>retiree</td>\n",
              "      <td>1</td>\n",
              "      <td>NaN</td>\n",
              "      <td>to have a wedding</td>\n",
              "    </tr>\n",
              "    <tr>\n",
              "      <th>...</th>\n",
              "      <td>...</td>\n",
              "      <td>...</td>\n",
              "      <td>...</td>\n",
              "      <td>...</td>\n",
              "      <td>...</td>\n",
              "      <td>...</td>\n",
              "      <td>...</td>\n",
              "      <td>...</td>\n",
              "      <td>...</td>\n",
              "      <td>...</td>\n",
              "      <td>...</td>\n",
              "      <td>...</td>\n",
              "    </tr>\n",
              "    <tr>\n",
              "      <th>21489</th>\n",
              "      <td>2</td>\n",
              "      <td>NaN</td>\n",
              "      <td>47</td>\n",
              "      <td>Secondary Education</td>\n",
              "      <td>1</td>\n",
              "      <td>married</td>\n",
              "      <td>0</td>\n",
              "      <td>M</td>\n",
              "      <td>business</td>\n",
              "      <td>0</td>\n",
              "      <td>NaN</td>\n",
              "      <td>purchase of a car</td>\n",
              "    </tr>\n",
              "    <tr>\n",
              "      <th>21495</th>\n",
              "      <td>1</td>\n",
              "      <td>NaN</td>\n",
              "      <td>50</td>\n",
              "      <td>secondary education</td>\n",
              "      <td>1</td>\n",
              "      <td>civil partnership</td>\n",
              "      <td>1</td>\n",
              "      <td>F</td>\n",
              "      <td>employee</td>\n",
              "      <td>0</td>\n",
              "      <td>NaN</td>\n",
              "      <td>wedding ceremony</td>\n",
              "    </tr>\n",
              "    <tr>\n",
              "      <th>21497</th>\n",
              "      <td>0</td>\n",
              "      <td>NaN</td>\n",
              "      <td>48</td>\n",
              "      <td>BACHELOR'S DEGREE</td>\n",
              "      <td>0</td>\n",
              "      <td>married</td>\n",
              "      <td>0</td>\n",
              "      <td>F</td>\n",
              "      <td>business</td>\n",
              "      <td>0</td>\n",
              "      <td>NaN</td>\n",
              "      <td>building a property</td>\n",
              "    </tr>\n",
              "    <tr>\n",
              "      <th>21502</th>\n",
              "      <td>1</td>\n",
              "      <td>NaN</td>\n",
              "      <td>42</td>\n",
              "      <td>secondary education</td>\n",
              "      <td>1</td>\n",
              "      <td>married</td>\n",
              "      <td>0</td>\n",
              "      <td>F</td>\n",
              "      <td>employee</td>\n",
              "      <td>0</td>\n",
              "      <td>NaN</td>\n",
              "      <td>building a real estate</td>\n",
              "    </tr>\n",
              "    <tr>\n",
              "      <th>21510</th>\n",
              "      <td>2</td>\n",
              "      <td>NaN</td>\n",
              "      <td>28</td>\n",
              "      <td>secondary education</td>\n",
              "      <td>1</td>\n",
              "      <td>married</td>\n",
              "      <td>0</td>\n",
              "      <td>F</td>\n",
              "      <td>employee</td>\n",
              "      <td>0</td>\n",
              "      <td>NaN</td>\n",
              "      <td>car purchase</td>\n",
              "    </tr>\n",
              "  </tbody>\n",
              "</table>\n",
              "<p>2174 rows × 12 columns</p>\n",
              "</div>"
            ],
            "text/plain": [
              "       children  days_employed  dob_years            education  education_id  \\\n",
              "12            0            NaN         65  secondary education             1   \n",
              "26            0            NaN         41  secondary education             1   \n",
              "29            0            NaN         63  secondary education             1   \n",
              "41            0            NaN         50  secondary education             1   \n",
              "55            0            NaN         54  secondary education             1   \n",
              "...         ...            ...        ...                  ...           ...   \n",
              "21489         2            NaN         47  Secondary Education             1   \n",
              "21495         1            NaN         50  secondary education             1   \n",
              "21497         0            NaN         48    BACHELOR'S DEGREE             0   \n",
              "21502         1            NaN         42  secondary education             1   \n",
              "21510         2            NaN         28  secondary education             1   \n",
              "\n",
              "           family_status  family_status_id gender    income_type  debt  \\\n",
              "12     civil partnership                 1      M        retiree     0   \n",
              "26               married                 0      M  civil servant     0   \n",
              "29             unmarried                 4      F        retiree     0   \n",
              "41               married                 0      F  civil servant     0   \n",
              "55     civil partnership                 1      F        retiree     1   \n",
              "...                  ...               ...    ...            ...   ...   \n",
              "21489            married                 0      M       business     0   \n",
              "21495  civil partnership                 1      F       employee     0   \n",
              "21497            married                 0      F       business     0   \n",
              "21502            married                 0      F       employee     0   \n",
              "21510            married                 0      F       employee     0   \n",
              "\n",
              "       total_income                   purpose  \n",
              "12              NaN         to have a wedding  \n",
              "26              NaN                 education  \n",
              "29              NaN    building a real estate  \n",
              "41              NaN  second-hand car purchase  \n",
              "55              NaN         to have a wedding  \n",
              "...             ...                       ...  \n",
              "21489           NaN         purchase of a car  \n",
              "21495           NaN          wedding ceremony  \n",
              "21497           NaN       building a property  \n",
              "21502           NaN    building a real estate  \n",
              "21510           NaN              car purchase  \n",
              "\n",
              "[2174 rows x 12 columns]"
            ]
          },
          "execution_count": 71,
          "metadata": {},
          "output_type": "execute_result"
        }
      ],
      "source": [
        "# Mari kita terapkan beberapa kondisi untuk memfilter data dan melihat jumlah baris dalam tabel yang telah difilter.\n",
        "# Menghitung jumlah dob_years untuk days_employed yang kosong kemudian dibandingkan dengan jumlah dob_years untuk total_income yang kosong\n",
        "# Apabila memiliki jumlah yang sama berarti bisa dipastikan kalau data tersebut simetris, karena sebelumnya juga memiliki jumlah null object yang sama\n",
        "dob_de = cs[cs['days_employed'].isna()]['dob_years'].sum()\n",
        "dob_ti = cs[cs['total_income'].isna()]['dob_years'].sum()\n",
        "\n",
        "print(dob_de)\n",
        "print(dob_ti)\n",
        "\n",
        "cs_null = (cs[cs['days_employed'].isna() & cs['total_income'].isna()])\n",
        "cs_null"
      ]
    },
    {
      "cell_type": "markdown",
      "metadata": {
        "id": "vBnFe6oY-qUd"
      },
      "source": [
        "<div class=\"alert alert-warning\">\n",
        "<b>Chamdani's comment v.1</b> <a class=\"tocSkip\"></a>\n",
        "\n",
        "Kerja bagus! Kamu tidak perlu menggunakan fungsi `print` untuk mencetak nilai dataframe.\n",
        "\n",
        "</div>"
      ]
    },
    {
      "cell_type": "markdown",
      "metadata": {
        "id": "-LLxOt9p-qUe"
      },
      "source": [
        "<div class=\"alert alert-info\">\n",
        "<b>Student answer</b> <a class=\"tocSkip\"></a>\n",
        "\n",
        "Siap kak.\n",
        "\n",
        "</div>"
      ]
    },
    {
      "cell_type": "markdown",
      "metadata": {
        "id": "Ec_lDF0h-qUe"
      },
      "source": [
        "<div class=\"alert alert-success\">\n",
        "<b>Chamdani's comment v.2</b> <a class=\"tocSkip\"></a>\n",
        "\n",
        "Kerja bagus!\n",
        "\n",
        "</div>"
      ]
    },
    {
      "cell_type": "markdown",
      "metadata": {
        "id": "xeQUxORR-qUe"
      },
      "source": [
        "\n",
        "**Kesimpulan sementara**\n",
        "\n",
        "[Apakah jumlah baris dalam tabel yang telah difilter sesuai dengan jumlah nilai yang hilang? Kesimpulan apa yang bisa kita buat dari hal ini?]\n",
        "\n",
        "[Hitung persentase nilai yang hilang jika dibandingkan dengan keseluruhan *dataset*. Apakah nilai yang hilang merupakan bagian data yang cukup besar? Jika demikian, Anda sebaiknya perlu mengisi nilai yang hilang. Untuk melakukannya, pertama-tama kita harus mempertimbangkan apakah data yang hilang bisa jadi disebabkan oleh karakteristik nasabah tertentu, seperti jenis pekerjaan atau yang lainnya. Anda harus memutuskan karakteristik mana yang menurut *Anda* mungkin merupakan penyebabnya. Kedua, kita harus memeriksa apakah ada ketergantungan nilai yang hilang pada nilai indikator lain dengan kolom-kolom yang mengidentifikasikan karakteristik tertentu nasabah.]\n",
        "\n",
        "[Jelaskan langkah Anda selanjutnya dan bagaimana hubungannya dengan kesimpulan yang Anda buat sejauh ini.]"
      ]
    },
    {
      "cell_type": "markdown",
      "metadata": {
        "id": "jQJLDiUO-qUf"
      },
      "source": [
        "<div class=\"alert alert-info\">\n",
        "<b>Student answer</b> <a class=\"tocSkip\"></a>\n",
        "\n",
        "Jumlah baris dalam tabel sesuai, hal ini memastikan bahwa dua data yang hilang simetris atau berada di baris yang sama\n",
        "   \n",
        "Untuk menghitung presentase, kita menggunakan jumlah yang hilang di kolom days_employed dibagi dengan total data\n",
        "\n",
        "</div>"
      ]
    },
    {
      "cell_type": "markdown",
      "metadata": {
        "id": "B7v1vRZs-qUg"
      },
      "source": []
    },
    {
      "cell_type": "markdown",
      "metadata": {
        "id": "ylH1Db5P-qUg"
      },
      "source": [
        "<div class=\"alert alert-warning\">\n",
        "<b>Chamdani's comment v.1</b> <a class=\"tocSkip\"></a>\n",
        "\n",
        "Hebat, Namun cobalah untuk menjelaskan ini secara lebih rinci menggunakan bahasa dan kalimat yang naratif. \n",
        "\n",
        "Jelaskan apa yang kamu temukan:\n",
        "* apakah ada nilai yang aneh atau anomali? \n",
        "* bagaimana nilai anomali itu bisa terjadi? \n",
        "* apa yang akan kamu lakukan untuk mengatasi anomali tersebut?\n",
        "* apa hasilnya?\n",
        "\n",
        "</div>"
      ]
    },
    {
      "cell_type": "markdown",
      "metadata": {
        "id": "zRjVIWrl-qUh"
      },
      "source": [
        "<div class=\"alert alert-info\">\n",
        "<b>Student answer</b> <a class=\"tocSkip\"></a>\n",
        "\n",
        "Nilai anomali terjadi pada jumlah anak yang negatif dan jumlah hari kerja yang negatif\n",
        "    \n",
        "nilai anomali bisa terjadi karena salah input dari user\n",
        "    \n",
        "untuk mengatasi nilai tersebut  saya akan mengubah nilai negatif menjadi positif\n",
        "\n",
        "</div>"
      ]
    },
    {
      "cell_type": "markdown",
      "metadata": {
        "id": "kX-tqXzG-qUh"
      },
      "source": [
        "<div class=\"alert alert-success\">\n",
        "<b>Chamdani's comment v.2</b> <a class=\"tocSkip\"></a>\n",
        "\n",
        "Kerja bagus!\n",
        "\n",
        "</div>"
      ]
    },
    {
      "cell_type": "code",
      "execution_count": null,
      "metadata": {
        "id": "-DL9ePgT-qUh",
        "outputId": "b41357b6-c7a4-4fdf-a0ee-47061426c854"
      },
      "outputs": [
        {
          "name": "stdout",
          "output_type": "stream",
          "text": [
            "persentase data yang hilang adalah 10.10%\n"
          ]
        }
      ],
      "source": [
        "# Mari kita periksa nasabah yang tidak memiliki data tentang karakteristik yang teridentifikasi dan kolom dengan nilai yang hilang\n",
        "percentage_missing = len(cs_null)/len(cs)\n",
        "print(f'persentase data yang hilang adalah {percentage_missing :.2%}')"
      ]
    },
    {
      "cell_type": "markdown",
      "metadata": {
        "id": "egC-qg7o-qUi"
      },
      "source": [
        "<div class=\"alert alert-warning\">\n",
        "<b>Chamdani's comment v.1</b> <a class=\"tocSkip\"></a>\n",
        "\n",
        "Kerja bagus! sekarang tolong tampilkan dalam bentuk 2 nilai desimal dibelakang koma.\n",
        "\n",
        "</div>"
      ]
    },
    {
      "cell_type": "markdown",
      "metadata": {
        "id": "rhpJa3E1-qUi"
      },
      "source": [
        "<div class=\"alert alert-info\">\n",
        "<b>Student answer</b> <a class=\"tocSkip\"></a>\n",
        "\n",
        "Siap kak.\n",
        "\n",
        "</div>"
      ]
    },
    {
      "cell_type": "markdown",
      "metadata": {
        "id": "L7gIrHPK-qUj"
      },
      "source": [
        "<div class=\"alert alert-success\">\n",
        "<b>Chamdani's comment v.2</b> <a class=\"tocSkip\"></a>\n",
        "\n",
        "Kerja bagus!\n",
        "\n",
        "</div>"
      ]
    },
    {
      "cell_type": "code",
      "execution_count": null,
      "metadata": {
        "id": "-1k7WgiS-qUj",
        "outputId": "4c93a4a1-68cb-4262-897d-7f5acd060ec1"
      },
      "outputs": [
        {
          "name": "stdout",
          "output_type": "stream",
          "text": [
            "secondary education    64.77%\n",
            "bachelor's degree      22.82%\n",
            "SECONDARY EDUCATION     3.08%\n",
            "Secondary Education     2.99%\n",
            "some college            2.53%\n",
            "Bachelor's Degree       1.15%\n",
            "BACHELOR'S DEGREE       1.06%\n",
            "primary education       0.87%\n",
            "SOME COLLEGE            0.32%\n",
            "Some College            0.32%\n",
            "PRIMARY EDUCATION       0.05%\n",
            "Primary Education       0.05%\n",
            "Name: education, dtype: object\n",
            "\n",
            "married               56.9%\n",
            "civil partnership    20.33%\n",
            "unmarried            13.25%\n",
            "divorced              5.15%\n",
            "widow / widower       4.37%\n",
            "Name: family_status, dtype: object\n",
            "\n",
            "employee         50.83%\n",
            "business         23.37%\n",
            "retiree           19.0%\n",
            "civil servant     6.76%\n",
            "entrepreneur      0.05%\n",
            "Name: income_type, dtype: object\n",
            "\n",
            "having a wedding                            4.23%\n",
            "to have a wedding                           3.73%\n",
            "wedding ceremony                             3.5%\n",
            "construction of own property                3.45%\n",
            "housing transactions                         3.4%\n",
            "buy real estate                             3.31%\n",
            "transactions with my real estate            3.27%\n",
            "purchase of the house for my family         3.27%\n",
            "housing renovation                          3.22%\n",
            "transactions with commercial real estate    3.22%\n",
            "buy commercial real estate                  3.08%\n",
            "buying property for renting out             2.99%\n",
            "property                                    2.85%\n",
            "buy residential real estate                 2.81%\n",
            "real estate transactions                    2.81%\n",
            "housing                                     2.76%\n",
            "building a property                         2.71%\n",
            "cars                                        2.62%\n",
            "going to university                         2.58%\n",
            "to become educated                          2.53%\n",
            "second-hand car purchase                    2.48%\n",
            "buying my own car                           2.44%\n",
            "purchase of the house                       2.39%\n",
            "to own a car                                2.39%\n",
            "to get a supplementary education            2.35%\n",
            "getting an education                         2.3%\n",
            "supplementary education                     2.21%\n",
            "profile education                           2.16%\n",
            "building a real estate                      2.12%\n",
            "purchase of my own house                    2.12%\n",
            "purchase of a car                           2.12%\n",
            "car purchase                                1.98%\n",
            "buying a second-hand car                    1.93%\n",
            "education                                   1.93%\n",
            "car                                         1.89%\n",
            "university education                        1.84%\n",
            "getting higher education                    1.66%\n",
            "to buy a car                                1.38%\n",
            "Name: purpose, dtype: object\n"
          ]
        }
      ],
      "source": [
        "# Periksalah distribusinya\n",
        "print(cs_null['education'].value_counts(normalize=True).mul(100).round(2).astype(str) + '%' )\n",
        "print()\n",
        "print(cs_null['family_status'].value_counts(normalize=True).mul(100).round(2).astype(str) + '%' )\n",
        "print()\n",
        "print(cs_null['income_type'].value_counts(normalize=True).mul(100).round(2).astype(str) + '%')\n",
        "print()\n",
        "print(cs_null['purpose'].value_counts(normalize=True).mul(100).round(2).astype(str) + '%')"
      ]
    },
    {
      "cell_type": "markdown",
      "metadata": {
        "id": "9UL8eFNT-qUk"
      },
      "source": [
        "<div class=\"alert alert-warning\">\n",
        "<b>Chamdani's comment v.1</b> <a class=\"tocSkip\"></a>\n",
        "\n",
        "Untuk memeriksa distribusi gunakanlah `value_counts` untuk setiap kolom dan tampilkan jumlah setiap kategori dan persentasenya dengan format 2 angka desimal setelah koma.\n",
        "    \n",
        "Kurang lebih akan tampak seperti ini:\n",
        "    \n",
        "| divorced | 57.51% | 6578 |\n",
        "| -------- | ------ | ---- |\n",
        "\n",
        "Setelah kamu melakukannya saya rasa kamu akan menemukan insight baru. Semangat!!\n",
        "</div>"
      ]
    },
    {
      "cell_type": "markdown",
      "metadata": {
        "id": "nNINZu5i-qUk"
      },
      "source": [
        "<div class=\"alert alert-success\">\n",
        "<b>Chamdani's comment v.2</b> <a class=\"tocSkip\"></a>\n",
        "\n",
        "Kerja bagus!\n",
        "\n",
        "</div>"
      ]
    },
    {
      "cell_type": "markdown",
      "metadata": {
        "id": "GwV1_Qh1-qUk"
      },
      "source": [
        "[Deksripsikan temuan Anda di sini.]\n",
        "\n",
        "**Kemungkinan penyebab hilangnya nilai dalam data**\n",
        "Persebaran data yang hilang paling banyak adalah mereka yang sedang menempuh secondary education, sudah menikah, karyawan dan tujuannya untuk menikah atau membeli rumah\n",
        "menurut saya disini ada yang aneh, kebanyakan persebaran data peminjam adalah mereka yang sudah menikah tapi tujuan peminjamannya untuk menikah, tapi ini mungkin bukan user yang sama\n",
        "\n",
        "\n",
        "[Kemukakan gagasan Anda mengenai kemungkinan alasan hilangnya nilai-nilai tersebut. Apakah menurut Anda mereka hilang secara acak atau apakah terdapat pola-pola tertentu?]\n",
        "pola yang saya temukan untuk data yang hilang adalah mereka yang tidak memiliki pekerjaan pasti tidak memiliki income, jadi ini adalah kesalahan saat submit\n",
        "\n",
        "\n",
        "[Mari kita mulai memeriksa apakah nilai yang hilang bersifat acak.]"
      ]
    },
    {
      "cell_type": "code",
      "execution_count": null,
      "metadata": {
        "id": "Eidptvtn-qUl",
        "outputId": "0d76e613-261a-4b18-b2fb-5e8886239d0e"
      },
      "outputs": [
        {
          "name": "stdout",
          "output_type": "stream",
          "text": [
            "secondary education    63.88%\n",
            "bachelor's degree      21.92%\n",
            "SECONDARY EDUCATION     3.59%\n",
            "Secondary Education      3.3%\n",
            "some college             3.1%\n",
            "BACHELOR'S DEGREE       1.27%\n",
            "Bachelor's Degree       1.25%\n",
            "primary education       1.16%\n",
            "Some College            0.22%\n",
            "SOME COLLEGE            0.13%\n",
            "PRIMARY EDUCATION       0.08%\n",
            "Primary Education       0.07%\n",
            "graduate degree         0.02%\n",
            "Graduate Degree          0.0%\n",
            "GRADUATE DEGREE          0.0%\n",
            "Name: education, dtype: object\n",
            "\n",
            "married              57.51%\n",
            "civil partnership    19.41%\n",
            "unmarried            13.07%\n",
            "divorced              5.55%\n",
            "widow / widower       4.46%\n",
            "Name: family_status, dtype: object\n",
            "\n",
            "employee                       51.66%\n",
            "business                       23.62%\n",
            "retiree                        17.91%\n",
            "civil servant                   6.78%\n",
            "unemployed                      0.01%\n",
            "entrepreneur                    0.01%\n",
            "paternity / maternity leave      0.0%\n",
            "student                          0.0%\n",
            "Name: income_type, dtype: object\n",
            "\n",
            "wedding ceremony                             3.7%\n",
            "having a wedding                            3.61%\n",
            "to have a wedding                            3.6%\n",
            "real estate transactions                    3.14%\n",
            "buy commercial real estate                  3.08%\n",
            "housing transactions                        3.03%\n",
            "buying property for renting out             3.03%\n",
            "transactions with commercial real estate    3.02%\n",
            "housing                                     3.01%\n",
            "purchase of the house                       3.01%\n",
            "purchase of the house for my family         2.98%\n",
            "construction of own property                2.95%\n",
            "property                                    2.95%\n",
            "transactions with my real estate            2.93%\n",
            "building a real estate                      2.91%\n",
            "buy real estate                              2.9%\n",
            "building a property                         2.88%\n",
            "purchase of my own house                    2.88%\n",
            "housing renovation                          2.84%\n",
            "buy residential real estate                 2.82%\n",
            "buying my own car                           2.35%\n",
            "going to university                          2.3%\n",
            "car                                          2.3%\n",
            "second-hand car purchase                    2.27%\n",
            "to own a car                                2.23%\n",
            "buying a second-hand car                    2.23%\n",
            "cars                                        2.22%\n",
            "to buy a car                                2.19%\n",
            "supplementary education                     2.15%\n",
            "car purchase                                2.15%\n",
            "purchase of a car                           2.11%\n",
            "university education                         2.1%\n",
            "education                                   2.08%\n",
            "to get a supplementary education            2.08%\n",
            "getting an education                        2.06%\n",
            "profile education                           2.03%\n",
            "getting higher education                    1.98%\n",
            "to become educated                          1.91%\n",
            "Name: purpose, dtype: object\n"
          ]
        }
      ],
      "source": [
        "# Memeriksa distribusi di seluruh *dataset*\n",
        "print(cs['education'].value_counts(normalize=True).mul(100).round(2).astype(str) + '%')\n",
        "print()\n",
        "print(cs['family_status'].value_counts(normalize=True).mul(100).round(2).astype(str) + '%')\n",
        "print()\n",
        "print(cs['income_type'].value_counts(normalize=True).mul(100).round(2).astype(str) + '%')\n",
        "print()\n",
        "print(cs['purpose'].value_counts(normalize=True).mul(100).round(2).astype(str) + '%')\n"
      ]
    },
    {
      "cell_type": "markdown",
      "metadata": {
        "id": "NcD0-x2O-qUl"
      },
      "source": [
        "<div class=\"alert alert-warning\">\n",
        "<b>Chamdani's comment v.1</b> <a class=\"tocSkip\"></a>\n",
        "\n",
        "Untuk memeriksa distribusi gunakanlah `value_counts` untuk setiap kolom dan tampilkan jumlah setiap kategori dan persentasenya dengan format 2 angka desimal setelah koma.\n",
        "    \n",
        "Kurang lebih akan tampak seperti ini:\n",
        "    \n",
        "| divorced | 57.51% | 6578 |\n",
        "| -------- | ------ | ---- |\n",
        "\n",
        "Setelah kamu melakukannya saya rasa kamu akan menemukan insight baru. Semangat!!\n",
        "</div>"
      ]
    },
    {
      "cell_type": "markdown",
      "metadata": {
        "id": "1LYGGRdy-qUm"
      },
      "source": [
        "<div class=\"alert alert-success\">\n",
        "<b>Chamdani's comment v.2</b> <a class=\"tocSkip\"></a>\n",
        "\n",
        "Kerja bagus!\n",
        "\n",
        "</div>"
      ]
    },
    {
      "cell_type": "markdown",
      "metadata": {
        "id": "Q7haoWiw-qUn"
      },
      "source": [
        "**Kesimpulan sementara**\n",
        "\n",
        "[Apakah distribusi dalam *dataset* yang asli mirip dengan distribusi tabel yang telah difilter? Apa artinya hal tersebut untuk kita?]\n",
        "\n",
        "distribusi data mirip antara tabel yang difilter dengan tabel yang tidak difilter\n",
        "\n",
        "[Jika menurut Anda kita belum dapat membuat kesimpulan apa pun, mari kita kembali menyelidiki *dataset* lebih lanjut. Mari pikirkan alasan lain yang dapat menyebabkan data hilang dan periksa apakah kita dapat menemukan pola tertentu yang dapat membuat kita berpikir bahwa hilangnya nilai-nilai tersebut tidak terjadi secara acak. Karena ini merupakan tugas Anda, maka bagian ini adalah opsional.]"
      ]
    },
    {
      "cell_type": "code",
      "execution_count": null,
      "metadata": {
        "id": "YkeJ5GRL-qUn",
        "outputId": "1e88d56c-ed18-4d72-bcdb-c921f37287c9"
      },
      "outputs": [
        {
          "data": {
            "text/html": [
              "<div>\n",
              "<style scoped>\n",
              "    .dataframe tbody tr th:only-of-type {\n",
              "        vertical-align: middle;\n",
              "    }\n",
              "\n",
              "    .dataframe tbody tr th {\n",
              "        vertical-align: top;\n",
              "    }\n",
              "\n",
              "    .dataframe thead th {\n",
              "        text-align: right;\n",
              "    }\n",
              "</style>\n",
              "<table border=\"1\" class=\"dataframe\">\n",
              "  <thead>\n",
              "    <tr style=\"text-align: right;\">\n",
              "      <th></th>\n",
              "      <th>children</th>\n",
              "      <th>days_employed</th>\n",
              "      <th>dob_years</th>\n",
              "      <th>education</th>\n",
              "      <th>education_id</th>\n",
              "      <th>family_status</th>\n",
              "      <th>family_status_id</th>\n",
              "      <th>gender</th>\n",
              "      <th>income_type</th>\n",
              "      <th>debt</th>\n",
              "      <th>total_income</th>\n",
              "      <th>purpose</th>\n",
              "    </tr>\n",
              "  </thead>\n",
              "  <tbody>\n",
              "    <tr>\n",
              "      <th>21489</th>\n",
              "      <td>2</td>\n",
              "      <td>NaN</td>\n",
              "      <td>47</td>\n",
              "      <td>Secondary Education</td>\n",
              "      <td>1</td>\n",
              "      <td>married</td>\n",
              "      <td>0</td>\n",
              "      <td>M</td>\n",
              "      <td>business</td>\n",
              "      <td>0</td>\n",
              "      <td>NaN</td>\n",
              "      <td>purchase of a car</td>\n",
              "    </tr>\n",
              "    <tr>\n",
              "      <th>21495</th>\n",
              "      <td>1</td>\n",
              "      <td>NaN</td>\n",
              "      <td>50</td>\n",
              "      <td>secondary education</td>\n",
              "      <td>1</td>\n",
              "      <td>civil partnership</td>\n",
              "      <td>1</td>\n",
              "      <td>F</td>\n",
              "      <td>employee</td>\n",
              "      <td>0</td>\n",
              "      <td>NaN</td>\n",
              "      <td>wedding ceremony</td>\n",
              "    </tr>\n",
              "    <tr>\n",
              "      <th>21497</th>\n",
              "      <td>0</td>\n",
              "      <td>NaN</td>\n",
              "      <td>48</td>\n",
              "      <td>BACHELOR'S DEGREE</td>\n",
              "      <td>0</td>\n",
              "      <td>married</td>\n",
              "      <td>0</td>\n",
              "      <td>F</td>\n",
              "      <td>business</td>\n",
              "      <td>0</td>\n",
              "      <td>NaN</td>\n",
              "      <td>building a property</td>\n",
              "    </tr>\n",
              "    <tr>\n",
              "      <th>21502</th>\n",
              "      <td>1</td>\n",
              "      <td>NaN</td>\n",
              "      <td>42</td>\n",
              "      <td>secondary education</td>\n",
              "      <td>1</td>\n",
              "      <td>married</td>\n",
              "      <td>0</td>\n",
              "      <td>F</td>\n",
              "      <td>employee</td>\n",
              "      <td>0</td>\n",
              "      <td>NaN</td>\n",
              "      <td>building a real estate</td>\n",
              "    </tr>\n",
              "    <tr>\n",
              "      <th>21510</th>\n",
              "      <td>2</td>\n",
              "      <td>NaN</td>\n",
              "      <td>28</td>\n",
              "      <td>secondary education</td>\n",
              "      <td>1</td>\n",
              "      <td>married</td>\n",
              "      <td>0</td>\n",
              "      <td>F</td>\n",
              "      <td>employee</td>\n",
              "      <td>0</td>\n",
              "      <td>NaN</td>\n",
              "      <td>car purchase</td>\n",
              "    </tr>\n",
              "  </tbody>\n",
              "</table>\n",
              "</div>"
            ],
            "text/plain": [
              "       children  days_employed  dob_years            education  education_id  \\\n",
              "21489         2            NaN         47  Secondary Education             1   \n",
              "21495         1            NaN         50  secondary education             1   \n",
              "21497         0            NaN         48    BACHELOR'S DEGREE             0   \n",
              "21502         1            NaN         42  secondary education             1   \n",
              "21510         2            NaN         28  secondary education             1   \n",
              "\n",
              "           family_status  family_status_id gender income_type  debt  \\\n",
              "21489            married                 0      M    business     0   \n",
              "21495  civil partnership                 1      F    employee     0   \n",
              "21497            married                 0      F    business     0   \n",
              "21502            married                 0      F    employee     0   \n",
              "21510            married                 0      F    employee     0   \n",
              "\n",
              "       total_income                 purpose  \n",
              "21489           NaN       purchase of a car  \n",
              "21495           NaN        wedding ceremony  \n",
              "21497           NaN     building a property  \n",
              "21502           NaN  building a real estate  \n",
              "21510           NaN            car purchase  "
            ]
          },
          "execution_count": 75,
          "metadata": {},
          "output_type": "execute_result"
        }
      ],
      "source": [
        "# Periksa penyebab dan pola lain yang dapat mengakibatkan nilai yang hilang\n",
        "(cs.tail(5))\n",
        "()\n",
        "(cs_null.tail(5))"
      ]
    },
    {
      "cell_type": "markdown",
      "metadata": {
        "id": "TsfzYpQX-qUo"
      },
      "source": [
        "<div class=\"alert alert-warning\">\n",
        "<b>Chamdani's comment v.1</b> <a class=\"tocSkip\"></a>\n",
        "\n",
        "Kerja bagus! Kamu tidak perlu menggunakan fungsi `print` untuk mencetak nilai dataframe.\n",
        "\n",
        "</div>"
      ]
    },
    {
      "cell_type": "markdown",
      "metadata": {
        "id": "h7LTUSqS-qUo"
      },
      "source": [
        "<div class=\"alert alert-success\">\n",
        "<b>Chamdani's comment v.2</b> <a class=\"tocSkip\"></a>\n",
        "\n",
        "Kerja bagus!\n",
        "\n",
        "</div>"
      ]
    },
    {
      "cell_type": "markdown",
      "metadata": {
        "id": "-aQ-IU9h-qUp"
      },
      "source": [
        "**Kesimpulan sementara**\n",
        "\n",
        "[Apakah pada akhirnya kita dapat memastikan bahwa nilai yang hilang adalah suatu kebetulan? Periksa hal lain yang menurut Anda penting di sini.]"
      ]
    },
    {
      "cell_type": "markdown",
      "metadata": {
        "id": "eAx8BWmW-qUp"
      },
      "source": [
        "<div class=\"alert alert-danger\">\n",
        "<b>Chamdani's comment v.1</b> <a class=\"tocSkip\"></a>\n",
        "\n",
        "Cobalah untuk menjelaskan kesimpulan proses dan insight mu secara lebih rinci menggunakan kalimat yang naratif. \n",
        "\n",
        "Jelaskan apa yang kamu temukan:\n",
        "* apakah ada nilai yang aneh atau anomali? \n",
        "* bagaimana nilai anomali itu bisa terjadi? \n",
        "* apa saja yang kamu lakukan untuk mengatasi anomali tersebut?\n",
        "* apa yang melandasimu untuk melakukan hal tersebut?\n",
        "* apa insight awal yang kamu harapkan?\n",
        "* apa hasil sebenarnya?\n",
        "\n",
        "</div>"
      ]
    },
    {
      "cell_type": "markdown",
      "metadata": {
        "id": "nv5WPxSP-qUq"
      },
      "source": [
        "<div class=\"alert alert-info\">\n",
        "<b>Student answer</b> <a class=\"tocSkip\"></a>\n",
        "\n",
        "- Children min -1 dan max 20\n",
        "- days_employed bernilai minus dan nilai maxnya terlalu banyak\n",
        "    \n",
        "nilai anomali bisa terjadi karena salah input dari user\n",
        "    \n",
        "untuk mengatasi nilai tersebut  saya akan mengubah nilai negatif menjadi positif\n",
        "    \n",
        "karena nilai anak dan days_employed tidak mungkin negatif\n",
        "\n",
        "\n",
        "</div>"
      ]
    },
    {
      "cell_type": "code",
      "execution_count": null,
      "metadata": {
        "id": "RodCl9bk-qUq",
        "outputId": "a7fca221-0027-4dd9-9393-0b5d562d34c9"
      },
      "outputs": [
        {
          "name": "stdout",
          "output_type": "stream",
          "text": [
            "['business', 'civil servant', 'employee', 'entrepreneur', 'paternity / maternity leave', 'retiree', 'student', 'unemployed']\n",
            "['business', 'civil servant', 'employee', 'entrepreneur', 'retiree']\n"
          ]
        }
      ],
      "source": [
        "# Periksa pola lainnya - jelaskan pola tersebut\n",
        "print(sorted(cs['income_type'].unique()))\n",
        "print(sorted(cs_null['income_type'].unique()))"
      ]
    },
    {
      "cell_type": "markdown",
      "metadata": {
        "id": "ZwlY0CUG-qUr"
      },
      "source": [
        "<div class=\"alert alert-warning\">\n",
        "<b>Chamdani's comment v.1</b> <a class=\"tocSkip\"></a>\n",
        "\n",
        "Untuk pola lainnya sebenarnya kamu sudah melakukan hal ini saat melakukan normalisasi pada data `cs` dan `cs_null`\n",
        "\n",
        "</div>"
      ]
    },
    {
      "cell_type": "markdown",
      "metadata": {
        "id": "xxAAAM8Z-qUs"
      },
      "source": [
        "<div class=\"alert alert-success\">\n",
        "<b>Chamdani's comment v.1</b> <a class=\"tocSkip\"></a>\n",
        "\n",
        "kerja bagus!\n",
        "\n",
        "</div>"
      ]
    },
    {
      "cell_type": "markdown",
      "metadata": {
        "id": "woxCNqyK-qUs"
      },
      "source": [
        "\n",
        "**Kesimpulan**\n",
        "\n",
        "[Apakah Anda menemukan suatu pola? Bagaimana Anda mendapatkan kesimpulan ini?]\n",
        "\n",
        "[Jelaskan bagaimana Anda akan mengatasi nilai-nilai yang hilang. Pertimbangkan kategori dengan nilai yang hilang.]\n",
        "\n",
        "[Rencanakan secara singkat langkah Anda selanjutnya untuk mentransformasi data. Anda mungkin perlu mengatasi berbagai jenis masalah: duplikat, pencatatan yang berbeda, sumber data yang salah, dan nilai yang hilang.]"
      ]
    },
    {
      "cell_type": "markdown",
      "metadata": {
        "id": "TTeK11el-qUs"
      },
      "source": [
        "<div class=\"alert alert-danger\">\n",
        "<b>Chamdani's comment v.1</b> <a class=\"tocSkip\"></a>\n",
        "\n",
        "Cobalah untuk menjelaskan kesimpulan proses dan insight mu secara lebih rinci menggunakan kalimat yang naratif. \n",
        "\n",
        "Jelaskan apa yang kamu temukan:\n",
        "* apakah ada nilai yang aneh atau anomali? \n",
        "* bagaimana nilai anomali itu bisa terjadi? \n",
        "* apa saja yang kamu lakukan untuk mengatasi anomali tersebut?\n",
        "* apa yang melandasimu untuk melakukan hal tersebut?\n",
        "* apa insight awal yang kamu harapkan?\n",
        "* apa hasil sebenarnya?\n",
        "\n",
        "</div>"
      ]
    },
    {
      "cell_type": "markdown",
      "metadata": {
        "id": "FK1nOs1c-qUt"
      },
      "source": [
        "## Transformasi data\n",
        "\n",
        "[Mari kita perhatikan setiap kolom untuk melihat masalah apa yang mungkin dimiliki mereka.]\n",
        "\n",
        "[Mulailah dengan menghapus duplikat dan memperbaiki data tentang informasi pendidikan jika diperlukan.]"
      ]
    },
    {
      "cell_type": "code",
      "execution_count": null,
      "metadata": {
        "id": "_a3yCZ-v-qUt",
        "outputId": "6299e018-b6ea-4422-a052-4049d28b1612"
      },
      "outputs": [
        {
          "name": "stdout",
          "output_type": "stream",
          "text": [
            "[\"bachelor's degree\" 'secondary education' 'Secondary Education'\n",
            " 'SECONDARY EDUCATION' \"BACHELOR'S DEGREE\" 'some college'\n",
            " 'primary education' \"Bachelor's Degree\" 'SOME COLLEGE' 'Some College'\n",
            " 'PRIMARY EDUCATION' 'Primary Education' 'Graduate Degree'\n",
            " 'GRADUATE DEGREE' 'graduate degree']\n"
          ]
        }
      ],
      "source": [
        "# Mari kita lihat semua nilai di kolom pendidikan untuk memeriksa ejaan apa yang perlu diperbaiki\n",
        "print(cs['education'].unique())\n"
      ]
    },
    {
      "cell_type": "code",
      "execution_count": null,
      "metadata": {
        "scrolled": true,
        "id": "7qJz07lq-qUu"
      },
      "outputs": [],
      "source": [
        "# Perbaiki pencatatan jika diperlukan\n",
        "cs['education'] = cs['education'].str.lower()"
      ]
    },
    {
      "cell_type": "code",
      "execution_count": null,
      "metadata": {
        "scrolled": true,
        "id": "5IkW-79r-qUu",
        "outputId": "02543a43-2ed1-4792-b708-382092311468"
      },
      "outputs": [
        {
          "name": "stdout",
          "output_type": "stream",
          "text": [
            "[\"bachelor's degree\" 'secondary education' 'some college'\n",
            " 'primary education' 'graduate degree']\n"
          ]
        }
      ],
      "source": [
        "# Periksa semua nilai di kolom untuk memastikan bahwa kita telah memperbaikinya dengan tepat\n",
        "print(cs['education'].unique())\n"
      ]
    },
    {
      "cell_type": "markdown",
      "metadata": {
        "id": "8FGIEIvs-qUu"
      },
      "source": [
        "<div class=\"alert alert-warning\">\n",
        "<b>Chamdani's comment v.1</b> <a class=\"tocSkip\"></a>\n",
        "\n",
        "Hebat, Namun cobalah untuk menjelaskan ini secara lebih rinci menggunakan bahasa dan kalimat yang naratif. \n",
        "\n",
        "Jelaskan apa yang kamu temukan:\n",
        "* apakah ada nilai yang aneh atau anomali? \n",
        "* bagaimana nilai anomali itu bisa terjadi? \n",
        "* apa yang akan kamu lakukan untuk mengatasi anomali tersebut?\n",
        "* apa hasilnya?\n",
        "\n",
        "</div>"
      ]
    },
    {
      "cell_type": "markdown",
      "metadata": {
        "id": "bRlOptbu-qUv"
      },
      "source": [
        "<div class=\"alert alert-danger\">\n",
        "<b>Chamdani's comment v.2</b> <a class=\"tocSkip\"></a>\n",
        "\n",
        "Hebat, Namun cobalah untuk menjelaskan ini secara lebih rinci menggunakan bahasa dan kalimat yang naratif. \n",
        "\n",
        "Jelaskan apa yang kamu temukan:\n",
        "* apakah ada nilai yang aneh atau anomali? \n",
        "* bagaimana nilai anomali itu bisa terjadi? \n",
        "* apa yang akan kamu lakukan untuk mengatasi anomali tersebut?\n",
        "* apa hasilnya?\n",
        "\n",
        "</div>"
      ]
    },
    {
      "cell_type": "markdown",
      "metadata": {
        "id": "3_oTWDq7-qUv"
      },
      "source": [
        "[Periksa data kolom `children`]"
      ]
    },
    {
      "cell_type": "code",
      "execution_count": null,
      "metadata": {
        "id": "NyAT_3hN-qUw",
        "outputId": "93b5c90c-dc93-4d67-974d-73c2c7930b4c"
      },
      "outputs": [
        {
          "name": "stdout",
          "output_type": "stream",
          "text": [
            "[ 1  0  3  2 -1  4 20  5]\n",
            " 0     14149\n",
            " 1      4818\n",
            " 2      2055\n",
            " 3       330\n",
            " 20       76\n",
            "-1        47\n",
            " 4        41\n",
            " 5         9\n",
            "Name: children, dtype: int64\n"
          ]
        }
      ],
      "source": [
        "# Mari kita lihat distribusi nilai pada kolom `children`\n",
        "print(cs['children'].unique())\n",
        "print(cs['children'].value_counts())"
      ]
    },
    {
      "cell_type": "markdown",
      "metadata": {
        "id": "vSTTDaO1-qUw"
      },
      "source": [
        "[Apakah terdapat hal-hal yang aneh di kolom tersebut? Bagaimana mereka bisa terjadi? Buat keputusan tentang apa yang akan Anda lakukan dengan data ini dan jelaskan alasannya.]\n",
        "\n",
        "Ada beberapa data yang kurang masuk akal, yaitu mereka yang memiliki anak 20 (walaupun ini memungkinkan) dan mereka yang memiliki ada -1, ada 47 orang yang memiliki ada -1 dan ada 76 orang yang memiliki 20 anak, \n",
        "yang akan saya lakukan adalah sementara membiarkan yang memiliki ada 20 dan mengubah yang memiliki anak -1 menjadi 1 karena asumsi sementara saya itu adalah salah input nilai"
      ]
    },
    {
      "cell_type": "markdown",
      "metadata": {
        "id": "JGqGQFa--qUx"
      },
      "source": [
        "<div class=\"alert alert-success\">\n",
        "<b>Chamdani's comment v.1</b> <a class=\"tocSkip\"></a>\n",
        "\n",
        "Kerja bagus! \n",
        "\n",
        "</div>"
      ]
    },
    {
      "cell_type": "code",
      "execution_count": null,
      "metadata": {
        "id": "uuhhDiPJ-qUx",
        "outputId": "f46a727d-349c-4261-8453-92f139459f4a"
      },
      "outputs": [
        {
          "name": "stdout",
          "output_type": "stream",
          "text": [
            "Column name:  children\n",
            "unique value:  [ 1  0  3  2 -1  4 20  5] \n",
            "\n",
            "Column name:  days_employed\n",
            "unique value:  [-8437.67302776 -4024.80375385 -5623.42261023 ... -2113.3468877\n",
            " -3112.4817052  -1984.50758853] \n",
            "\n",
            "Column name:  dob_years\n",
            "unique value:  [42 36 33 32 53 27 43 50 35 41 40 65 54 56 26 48 24 21 57 67 28 63 62 47\n",
            " 34 68 25 31 30 20 49 37 45 61 64 44 52 46 23 38 39 51  0 59 29 60 55 58\n",
            " 71 22 73 66 69 19 72 70 74 75] \n",
            "\n",
            "Column name:  education\n",
            "unique value:  [\"bachelor's degree\" 'secondary education' 'some college'\n",
            " 'primary education' 'graduate degree'] \n",
            "\n",
            "Column name:  education_id\n",
            "unique value:  [0 1 2 3 4] \n",
            "\n",
            "Column name:  family_status\n",
            "unique value:  ['married' 'civil partnership' 'widow / widower' 'divorced' 'unmarried'] \n",
            "\n",
            "Column name:  family_status_id\n",
            "unique value:  [0 1 2 3 4] \n",
            "\n",
            "Column name:  gender\n",
            "unique value:  ['F' 'M' 'XNA'] \n",
            "\n",
            "Column name:  income_type\n",
            "unique value:  ['employee' 'retiree' 'business' 'civil servant' 'unemployed'\n",
            " 'entrepreneur' 'student' 'paternity / maternity leave'] \n",
            "\n",
            "Column name:  debt\n",
            "unique value:  [0 1] \n",
            "\n",
            "Column name:  total_income\n",
            "unique value:  [40620.102 17932.802 23341.752 ... 14347.61  39054.888 13127.587] \n",
            "\n",
            "Column name:  purpose\n",
            "unique value:  ['purchase of the house' 'car purchase' 'supplementary education'\n",
            " 'to have a wedding' 'housing transactions' 'education' 'having a wedding'\n",
            " 'purchase of the house for my family' 'buy real estate'\n",
            " 'buy commercial real estate' 'buy residential real estate'\n",
            " 'construction of own property' 'property' 'building a property'\n",
            " 'buying a second-hand car' 'buying my own car'\n",
            " 'transactions with commercial real estate' 'building a real estate'\n",
            " 'housing' 'transactions with my real estate' 'cars' 'to become educated'\n",
            " 'second-hand car purchase' 'getting an education' 'car'\n",
            " 'wedding ceremony' 'to get a supplementary education'\n",
            " 'purchase of my own house' 'real estate transactions'\n",
            " 'getting higher education' 'to own a car' 'purchase of a car'\n",
            " 'profile education' 'university education'\n",
            " 'buying property for renting out' 'to buy a car' 'housing renovation'\n",
            " 'going to university'] \n",
            "\n"
          ]
        }
      ],
      "source": [
        "for column in cs.columns: # Chamdani check\n",
        "    print(\"Column name: \", column)\n",
        "    print(\"unique value: \", cs[column].unique(),\"\\n\")"
      ]
    },
    {
      "cell_type": "code",
      "execution_count": null,
      "metadata": {
        "id": "xALdvKQp-qUy"
      },
      "outputs": [],
      "source": [
        "# [perbaiki data berdasarkan keputusan Anda]\n",
        "cs['children'] = cs.children.replace(-1,1)"
      ]
    },
    {
      "cell_type": "markdown",
      "metadata": {
        "id": "ALql9WVa-qUy"
      },
      "source": [
        "<div class=\"alert alert-danger\">\n",
        "<b>Chamdani's comment v.1</b> <a class=\"tocSkip\"></a>\n",
        "\n",
        "### error detected\n",
        "    \n",
        "Lihatlah diatas blok kode mu saya memverifikasi nilai unik dari setiap kolom. Perhatikan hasilnya!\n",
        "**Proses ini berdampak besar karena prose yang keliru** Lihat hasil pengecekan nilai unik setalah cell kode itu dijalankan. Dia akan memberikan nilai 1 dimana2. Ini karena kamu memberikan perintas pada kode untuk mengisi seluruh kolom dengan nilai `1` jika `cs.children == -1`\n",
        "    \n",
        "Solusinya kamu bisa menggunakan fungsi `replace` seperti referensi berikut ini:\n",
        "* https://pandas.pydata.org/docs/reference/api/pandas.DataFrame.replace.html\n",
        "\n",
        "</div>"
      ]
    },
    {
      "cell_type": "markdown",
      "metadata": {
        "id": "JVGveHEW-qUz"
      },
      "source": [
        "<div class=\"alert alert-info\">\n",
        "<b>Student answer</b> <a class=\"tocSkip\"></a>\n",
        "\n",
        "Siap kak\n",
        "\n",
        "\n",
        "</div>"
      ]
    },
    {
      "cell_type": "code",
      "execution_count": null,
      "metadata": {
        "id": "VSqmiDU0-qUz",
        "outputId": "ebadfcc6-eeac-46b0-e9a6-2f8cc76bc6ef"
      },
      "outputs": [
        {
          "name": "stdout",
          "output_type": "stream",
          "text": [
            "Column name:  children\n",
            "unique value:  [ 1  0  3  2  4 20  5] \n",
            "\n",
            "Column name:  days_employed\n",
            "unique value:  [-8437.67302776 -4024.80375385 -5623.42261023 ... -2113.3468877\n",
            " -3112.4817052  -1984.50758853] \n",
            "\n",
            "Column name:  dob_years\n",
            "unique value:  [42 36 33 32 53 27 43 50 35 41 40 65 54 56 26 48 24 21 57 67 28 63 62 47\n",
            " 34 68 25 31 30 20 49 37 45 61 64 44 52 46 23 38 39 51  0 59 29 60 55 58\n",
            " 71 22 73 66 69 19 72 70 74 75] \n",
            "\n",
            "Column name:  education\n",
            "unique value:  [\"bachelor's degree\" 'secondary education' 'some college'\n",
            " 'primary education' 'graduate degree'] \n",
            "\n",
            "Column name:  education_id\n",
            "unique value:  [0 1 2 3 4] \n",
            "\n",
            "Column name:  family_status\n",
            "unique value:  ['married' 'civil partnership' 'widow / widower' 'divorced' 'unmarried'] \n",
            "\n",
            "Column name:  family_status_id\n",
            "unique value:  [0 1 2 3 4] \n",
            "\n",
            "Column name:  gender\n",
            "unique value:  ['F' 'M' 'XNA'] \n",
            "\n",
            "Column name:  income_type\n",
            "unique value:  ['employee' 'retiree' 'business' 'civil servant' 'unemployed'\n",
            " 'entrepreneur' 'student' 'paternity / maternity leave'] \n",
            "\n",
            "Column name:  debt\n",
            "unique value:  [0 1] \n",
            "\n",
            "Column name:  total_income\n",
            "unique value:  [40620.102 17932.802 23341.752 ... 14347.61  39054.888 13127.587] \n",
            "\n",
            "Column name:  purpose\n",
            "unique value:  ['purchase of the house' 'car purchase' 'supplementary education'\n",
            " 'to have a wedding' 'housing transactions' 'education' 'having a wedding'\n",
            " 'purchase of the house for my family' 'buy real estate'\n",
            " 'buy commercial real estate' 'buy residential real estate'\n",
            " 'construction of own property' 'property' 'building a property'\n",
            " 'buying a second-hand car' 'buying my own car'\n",
            " 'transactions with commercial real estate' 'building a real estate'\n",
            " 'housing' 'transactions with my real estate' 'cars' 'to become educated'\n",
            " 'second-hand car purchase' 'getting an education' 'car'\n",
            " 'wedding ceremony' 'to get a supplementary education'\n",
            " 'purchase of my own house' 'real estate transactions'\n",
            " 'getting higher education' 'to own a car' 'purchase of a car'\n",
            " 'profile education' 'university education'\n",
            " 'buying property for renting out' 'to buy a car' 'housing renovation'\n",
            " 'going to university'] \n",
            "\n"
          ]
        }
      ],
      "source": [
        "for column in cs.columns: # Chamdani check\n",
        "    print(\"Column name: \", column)\n",
        "    print(\"unique value: \", cs[column].unique(),\"\\n\")"
      ]
    },
    {
      "cell_type": "code",
      "execution_count": null,
      "metadata": {
        "id": "unAaklgo-qUz",
        "outputId": "648db14f-a80d-4a1f-f701-efc13cb86aa9"
      },
      "outputs": [
        {
          "name": "stdout",
          "output_type": "stream",
          "text": [
            "0     14149\n",
            "1      4865\n",
            "2      2055\n",
            "3       330\n",
            "20       76\n",
            "4        41\n",
            "5         9\n",
            "Name: children, dtype: int64\n"
          ]
        }
      ],
      "source": [
        "# Periksa kembali kolom `children` untuk memastikan bahwa semuanya telah diperbaiki\n",
        "\n",
        "print(cs['children'].value_counts())"
      ]
    },
    {
      "cell_type": "markdown",
      "metadata": {
        "id": "mlY6oU17-qU0"
      },
      "source": [
        "<div class=\"alert alert-success\">\n",
        "<b>Chamdani's comment v.1</b> <a class=\"tocSkip\"></a>\n",
        "\n",
        "Kerja bagus! \n",
        "\n",
        "</div>"
      ]
    },
    {
      "cell_type": "markdown",
      "metadata": {
        "id": "A2QcA8ag-qU0"
      },
      "source": [
        "[Periksa data dalam kolom the `days_employed`. Pertama-tama pikirkan tentang masalah apa yang mungkin ada pada kolom tersebut, serta pikirkan juga apa yang mungkin ingin Anda periksa dan bagaimana Anda akan melakukannya.]\n",
        "\n",
        "data days_employed berisi berapa lama nasabah telah bekerja, permasalahannya ada dua yaitu nilai data yang bersifat float(harusnya int) dan nilai data yang negatif(harusnya positif)"
      ]
    },
    {
      "cell_type": "code",
      "execution_count": null,
      "metadata": {
        "id": "QSBvVmgc-qU0",
        "outputId": "c75c9e64-3a9d-499d-98fa-0d53a7cd8720"
      },
      "outputs": [
        {
          "name": "stdout",
          "output_type": "stream",
          "text": [
            "0     -8437.673028\n",
            "1     -4024.803754\n",
            "2     -5623.422610\n",
            "3     -4124.747207\n",
            "4    340266.072047\n",
            "Name: days_employed, dtype: float64\n",
            "data yang salah ada 82%\n",
            "1729\n"
          ]
        }
      ],
      "source": [
        "# Temukan data yang bermasalah di `days_employed`, jika memang terdapat masalah, dan hitung persentasenya\n",
        "print(cs['days_employed'].head(5))\n",
        "wrong_days_employed = cs.loc[cs['days_employed']<0,'days_employed'].count()\n",
        "amount_days_employed = cs['days_employed'].count()\n",
        "percentage_wrong_days_employed =  wrong_days_employed / amount_days_employed\n",
        "pwde = percentage_wrong_days_employed\n",
        "print(f'data yang salah ada {pwde:.0%}')\n",
        "print(cs.loc[cs['days_employed']>(365*1000),'days_employed'].count())"
      ]
    },
    {
      "cell_type": "markdown",
      "metadata": {
        "id": "Xus6Y3s7-qU1"
      },
      "source": [
        "[Jika jumlah data yang bermasalah tinggi, hal tersebut mungkin disebabkan oleh beberapa masalah teknis. Kami mungkin perlu mengusulkan alasan paling jelas mengapa hal tersebut dapat terjadi dan bagaimana seharusnya data yang benar, mengingat kita tidak dapat menghapus baris yang bermasalah ini.]\n",
        "\n",
        "data yang bermasalah tinggi, ada 80% data bermasalah dari total data yang ada, kesalahan disini mungkin juga terletak di input atau prosesing datanya yang membuat hasilnya menjadi negatif"
      ]
    },
    {
      "cell_type": "code",
      "execution_count": null,
      "metadata": {
        "id": "aRvsq_68-qU2"
      },
      "outputs": [],
      "source": [
        "# Atasi nilai yang bermasalah, jika ada\n",
        "cs.loc[cs['days_employed'] < 0 , 'days_employed' ] = cs.loc[cs['days_employed'] < 0 , 'days_employed' ] * -1\n",
        "cs.loc[cs['days_employed'] > 20000, 'days_employed'] = (cs['dob_years'] - 19) * 365"
      ]
    },
    {
      "cell_type": "markdown",
      "metadata": {
        "id": "45KY1s2l-qU2"
      },
      "source": [
        "<div class=\"alert alert-warning\">\n",
        "<b>Chamdani's comment v.1</b> <a class=\"tocSkip\"></a>\n",
        "\n",
        "Hebat, Namun cobalah untuk menjelaskan ini secara lebih rinci menggunakan bahasa dan kalimat yang naratif. \n",
        "\n",
        "Jelaskan apa yang kamu temukan:\n",
        "* apakah ada nilai yang aneh atau anomali? \n",
        "* bagaimana nilai anomali itu bisa terjadi? \n",
        "* apa yang akan kamu lakukan untuk mengatasi anomali tersebut?\n",
        "* apa hasilnya?\n",
        "\n",
        "</div>"
      ]
    },
    {
      "cell_type": "markdown",
      "metadata": {
        "id": "N_Utd7vv-qU2"
      },
      "source": [
        "<div class=\"alert alert-success\">\n",
        "<b>Chamdani's comment v.2</b> <a class=\"tocSkip\"></a>\n",
        "\n",
        "Kerja bagus! \n",
        "\n",
        "</div>"
      ]
    },
    {
      "cell_type": "code",
      "execution_count": null,
      "metadata": {
        "id": "CL5VFAHc-qU3",
        "outputId": "1d4699a2-0c5e-460d-9cf7-5acc72456832"
      },
      "outputs": [
        {
          "name": "stdout",
          "output_type": "stream",
          "text": [
            "0         8437.673028\n",
            "1         4024.803754\n",
            "2         5623.422610\n",
            "3         4124.747207\n",
            "4        12410.000000\n",
            "             ...     \n",
            "21520     4529.316663\n",
            "21521    17520.000000\n",
            "21522     2113.346888\n",
            "21523     3112.481705\n",
            "21524     1984.507589\n",
            "Name: days_employed, Length: 21525, dtype: float64\n"
          ]
        }
      ],
      "source": [
        "# Periksa hasilnya - pastikan bahwa masalahnya telah diperbaiki\n",
        "print(cs['days_employed'])"
      ]
    },
    {
      "cell_type": "markdown",
      "metadata": {
        "id": "-OJgcN1A-qU3"
      },
      "source": [
        "[Sekarang mari kita lihat usia nasabah dan mengecek apakah terdapat masalah di sana. Sekali lagi, pikirkan tentang kemungkinan kejanggalan apa yang bisa kita temui dalam kolom ini, misalnya angka usia yang tidak masuk akal.]"
      ]
    },
    {
      "cell_type": "code",
      "execution_count": null,
      "metadata": {
        "id": "kAqMW4UG-qU3",
        "outputId": "df551ce6-ee00-421b-f66d-e703dcf3db03"
      },
      "outputs": [
        {
          "name": "stdout",
          "output_type": "stream",
          "text": [
            "[42 36 33 32 53 27 43 50 35 41 40 65 54 56 26 48 24 21 57 67 28 63 62 47\n",
            " 34 68 25 31 30 20 49 37 45 61 64 44 52 46 23 38 39 51  0 59 29 60 55 58\n",
            " 71 22 73 66 69 19 72 70 74 75]\n",
            "43.29337979094077\n",
            "42.0\n",
            "      children  days_employed  dob_years            education  education_id  \\\n",
            "99           0   -6935.000000          0  secondary education             1   \n",
            "149          0    2664.273168          0  secondary education             1   \n",
            "270          3    1872.663186          0  secondary education             1   \n",
            "578          0   -6935.000000          0  secondary education             1   \n",
            "1040         0    1158.029561          0    bachelor's degree             0   \n",
            "1149         0     934.654854          0  secondary education             1   \n",
            "1175         0   -6935.000000          0  secondary education             1   \n",
            "1386         0    5043.219890          0    bachelor's degree             0   \n",
            "1890         0            NaN          0    bachelor's degree             0   \n",
            "1898         0   -6935.000000          0  secondary education             1   \n",
            "\n",
            "        family_status  family_status_id gender    income_type  debt  \\\n",
            "99            married                 0      F        retiree     0   \n",
            "149          divorced                 3      F       employee     0   \n",
            "270           married                 0      F       employee     0   \n",
            "578           married                 0      F        retiree     0   \n",
            "1040         divorced                 3      F       business     0   \n",
            "1149          married                 0      F       business     0   \n",
            "1175          married                 0      F        retiree     0   \n",
            "1386          married                 0      M  civil servant     0   \n",
            "1890        unmarried                 4      F       employee     0   \n",
            "1898  widow / widower                 2      F        retiree     0   \n",
            "\n",
            "      total_income                           purpose  \n",
            "99       11406.644                               car  \n",
            "149      11228.230              housing transactions  \n",
            "270      16346.633                housing renovation  \n",
            "578      15619.310      construction of own property  \n",
            "1040     48639.062                      to own a car  \n",
            "1149     32296.389                   buy real estate  \n",
            "1175     50231.975  to get a supplementary education  \n",
            "1386     38483.779                 purchase of a car  \n",
            "1890           NaN                           housing  \n",
            "1898     20384.043                      to buy a car  \n"
          ]
        }
      ],
      "source": [
        "# Periksa `dob_years` untuk nilai yang mencurigakan dan hitung persentasenya\n",
        "print(cs['dob_years'].unique())\n",
        "print(cs['dob_years'].mean())\n",
        "print(cs['dob_years'].median())\n",
        "print(cs[cs['dob_years']<5].head(10))"
      ]
    },
    {
      "cell_type": "markdown",
      "metadata": {
        "id": "HRi7OOWm-qU4"
      },
      "source": [
        "[Putuskan apa yang akan Anda lakukan dengan nilai yang bermasalah dan jelaskan alasannya.]\n"
      ]
    },
    {
      "cell_type": "markdown",
      "metadata": {
        "id": "ioTiaLC3-qU4"
      },
      "source": [
        "<div class=\"alert alert-danger\">\n",
        "<b>Chamdani's comment v.1</b> <a class=\"tocSkip\"></a>\n",
        "\n",
        "Deskripsi ini perlu diupdate karena terdapat kesalahan pada penanganan kolom `children` diatas.\n",
        "    \n",
        "cobalah untuk menjelaskan ini secara lebih rinci menggunakan bahasa dan kalimat yang naratif. \n",
        "\n",
        "Jelaskan apa yang kamu temukan:\n",
        "* apakah ada nilai yang aneh atau anomali? \n",
        "* bagaimana nilai anomali itu bisa terjadi? \n",
        "* apa yang akan kamu lakukan untuk mengatasi anomali tersebut?\n",
        "* apa hasilnya?\n",
        "\n",
        "</div>"
      ]
    },
    {
      "cell_type": "markdown",
      "metadata": {
        "id": "OMH2f-hE-qU4"
      },
      "source": [
        "<div class=\"alert alert-info\">\n",
        "<b>Student answer</b> <a class=\"tocSkip\"></a>\n",
        "    \n",
        "nilai yang bermasalah disini adalah ada usia nasabah 0 tahun, kesalahan data ini kemungkinan juga disebabkan saat input data\n",
        "\n",
        "\n",
        "</div>"
      ]
    },
    {
      "cell_type": "markdown",
      "metadata": {
        "id": "2UwtdIMq-qU5"
      },
      "source": [
        "<div class=\"alert alert-success\">\n",
        "<b>Chamdani's comment v.2</b> <a class=\"tocSkip\"></a>\n",
        "\n",
        "Kerja bagus! \n",
        "\n",
        "</div>"
      ]
    },
    {
      "cell_type": "code",
      "execution_count": null,
      "metadata": {
        "id": "CGTRspdb-qU5"
      },
      "outputs": [],
      "source": [
        "# Atasi masalah pada kolom `dob_years`, jika terdapat masalah\n",
        "mean_age = (int(cs['dob_years'].mean()))\n",
        "cs.loc[cs['dob_years'] < 5,'dob_years'] = mean_age\n"
      ]
    },
    {
      "cell_type": "code",
      "execution_count": null,
      "metadata": {
        "id": "c0jhAosg-qU5",
        "outputId": "d4bf7b20-e366-437e-bb6a-9497861aa0b0"
      },
      "outputs": [
        {
          "name": "stdout",
          "output_type": "stream",
          "text": [
            "[42 36 33 32 53 27 43 50 35 41 40 65 54 56 26 48 24 21 57 67 28 63 62 47\n",
            " 34 68 25 31 30 20 49 37 45 61 64 44 52 46 23 38 39 51 59 29 60 55 58 71\n",
            " 22 73 66 69 19 72 70 74 75]\n",
            "Empty DataFrame\n",
            "Columns: [children, days_employed, dob_years, education, education_id, family_status, family_status_id, gender, income_type, debt, total_income, purpose, age_category, employed_time, income_level, debt_meaning, purpose_category]\n",
            "Index: []\n"
          ]
        }
      ],
      "source": [
        "# Periksa hasilnya - pastikan bahwa masalahnya telah diperbaiki\n",
        "print(cs['dob_years'].unique())\n",
        "print(cs[cs['dob_years']<5].head(10))"
      ]
    },
    {
      "cell_type": "markdown",
      "metadata": {
        "id": "Qa27rQ3Y-qU6"
      },
      "source": [
        "[Sekarang saatnya memeriksa kolom `family_status`. Periksalah nilai seperti apa yang dimuat di dalam kolom ini dan masalah apa yang mungkin perlu Anda atasi.]"
      ]
    },
    {
      "cell_type": "code",
      "execution_count": null,
      "metadata": {
        "id": "TcjY-0P6-qU7",
        "outputId": "5bcfc1cd-20bc-4e59-d3a9-2f35186a48fc"
      },
      "outputs": [
        {
          "name": "stdout",
          "output_type": "stream",
          "text": [
            "['married' 'civil partnership' 'widow / widower' 'divorced' 'unmarried']\n"
          ]
        }
      ],
      "source": [
        "# Mari kita lihat nilai untuk kolom ini\n",
        "print(cs['family_status'].unique())"
      ]
    },
    {
      "cell_type": "markdown",
      "metadata": {
        "id": "UwMKoukW-qU7"
      },
      "source": [
        "<div class=\"alert alert-danger\">\n",
        "<b>Chamdani's comment v.1</b> <a class=\"tocSkip\"></a>\n",
        "\n",
        "ERROR! data bernilai 1 disini disebabkan karena proses penanganan yang keliru [disini](#error_detected) saran saya hilangkan kode diatas!\n",
        "\n",
        "</div>"
      ]
    },
    {
      "cell_type": "markdown",
      "metadata": {
        "id": "PUspJy27-qU8"
      },
      "source": [
        "<div class=\"alert alert-info\">\n",
        "<b>Student answer</b> <a class=\"tocSkip\"></a>\n",
        "\n",
        "Siap kak\n",
        "\n",
        "\n",
        "</div>"
      ]
    },
    {
      "cell_type": "markdown",
      "metadata": {
        "id": "LySd41P4-qU8"
      },
      "source": [
        "<div class=\"alert alert-success\">\n",
        "<b>Chamdani's comment v.2</b> <a class=\"tocSkip\"></a>\n",
        "\n",
        "Kerja bagus! \n",
        "\n",
        "</div>"
      ]
    },
    {
      "cell_type": "code",
      "execution_count": null,
      "metadata": {
        "id": "agRdOX6i-qU8",
        "outputId": "e0bc5ab1-993e-4655-ee61-86c1156a40df"
      },
      "outputs": [
        {
          "name": "stdout",
          "output_type": "stream",
          "text": [
            "['married' 'civil partnership' 'widow / widower' 'divorced' 'unmarried']\n"
          ]
        }
      ],
      "source": [
        "# Periksa hasilnya - pastikan nilainya telah diperbaiki\n",
        "print(cs['family_status'].unique())"
      ]
    },
    {
      "cell_type": "markdown",
      "metadata": {
        "id": "xpiML2mg-qU9"
      },
      "source": [
        "[Sekarang saatnya memeriksa kolom `gender`. Periksalah nilai seperti apa yang dimuat di dalam kolom ini dan masalah apa yang mungkin perlu Anda atasi]"
      ]
    },
    {
      "cell_type": "code",
      "execution_count": null,
      "metadata": {
        "scrolled": true,
        "id": "MRfcDgY9-qU9",
        "outputId": "354ddf41-c986-4f88-bc34-963796fbe75c"
      },
      "outputs": [
        {
          "name": "stdout",
          "output_type": "stream",
          "text": [
            "['F' 'M' 'unknown']\n"
          ]
        }
      ],
      "source": [
        "# Mari kita liat nilai dalam kolom ini\n",
        "print(cs['gender'].unique())\n"
      ]
    },
    {
      "cell_type": "markdown",
      "metadata": {
        "id": "j1KYcyXU-qU9"
      },
      "source": [
        "<div class=\"alert alert-danger\">\n",
        "<b>Chamdani's comment v.1</b> <a class=\"tocSkip\"></a>\n",
        "\n",
        "ERROR! data bernilai 1 disini disebabkan karena proses penanganan yang keliru [disini](#error_detected) \n",
        "</div>"
      ]
    },
    {
      "cell_type": "markdown",
      "metadata": {
        "id": "KgosKKAe-qU-"
      },
      "source": [
        "<div class=\"alert alert-info\">\n",
        "<b>Student answer</b> <a class=\"tocSkip\"></a>\n",
        "\n",
        "Siap kak\n",
        "\n",
        "\n",
        "</div>"
      ]
    },
    {
      "cell_type": "markdown",
      "metadata": {
        "id": "7m8ypVGJ-qU-"
      },
      "source": [
        "<div class=\"alert alert-success\">\n",
        "<b>Chamdani's comment v.2</b> <a class=\"tocSkip\"></a>\n",
        "\n",
        "Kerja bagus! \n",
        "\n",
        "</div>"
      ]
    },
    {
      "cell_type": "code",
      "execution_count": null,
      "metadata": {
        "id": "D-_p0kPZ-qU_"
      },
      "outputs": [],
      "source": [
        "# Atasi nilai-nilai yang bermasalah, jika ada\n",
        "cs.loc[cs['gender']=='XNA','gender'] = 'unknown'"
      ]
    },
    {
      "cell_type": "markdown",
      "metadata": {
        "id": "EOdxup8L-qU_"
      },
      "source": [
        "<div class=\"alert alert-danger\">\n",
        "<b>Chamdani's comment v.1</b> <a class=\"tocSkip\"></a>\n",
        "\n",
        "ERROR! data bernilai 1 disini disebabkan karena proses penanganan yang keliru [disini](#error_detected) saran saya hilangkan kode `cs.loc[cs['gender']==1,'gender'] = 'unknown'`!\n",
        "\n",
        "</div>"
      ]
    },
    {
      "cell_type": "markdown",
      "metadata": {
        "id": "1apcd4KN-qU_"
      },
      "source": [
        "<div class=\"alert alert-info\">\n",
        "<b>Student answer</b> <a class=\"tocSkip\"></a>\n",
        "\n",
        "Siap kak\n",
        "\n",
        "\n",
        "</div>"
      ]
    },
    {
      "cell_type": "markdown",
      "metadata": {
        "id": "0t4eMlM5-qVA"
      },
      "source": [
        "<div class=\"alert alert-success\">\n",
        "<b>Chamdani's comment v.2</b> <a class=\"tocSkip\"></a>\n",
        "\n",
        "Kerja bagus! \n",
        "\n",
        "</div>"
      ]
    },
    {
      "cell_type": "code",
      "execution_count": null,
      "metadata": {
        "id": "Av3Wnhfh-qVA",
        "outputId": "e85e1e7f-c468-405e-c8e3-4c264531daaf"
      },
      "outputs": [
        {
          "name": "stdout",
          "output_type": "stream",
          "text": [
            "['F' 'M' 'unknown']\n"
          ]
        }
      ],
      "source": [
        "# Periksa hasilnya - pastikan bahwa masalahnya telah diperbaiki\n",
        "\n",
        "print(cs['gender'].unique())"
      ]
    },
    {
      "cell_type": "markdown",
      "metadata": {
        "id": "N41Q0W_Y-qVA"
      },
      "source": [
        "<div class=\"alert alert-warning\">\n",
        "<b>Chamdani's comment v.1</b> <a class=\"tocSkip\"></a>\n",
        "\n",
        "Hebat, Namun cobalah untuk menjelaskan ini secara lebih rinci menggunakan bahasa dan kalimat yang naratif. \n",
        "\n",
        "Jelaskan apa yang kamu temukan:\n",
        "* apakah ada nilai yang aneh atau anomali? \n",
        "* bagaimana nilai anomali itu bisa terjadi? \n",
        "* apa yang akan kamu lakukan untuk mengatasi anomali tersebut?\n",
        "* apa hasilnya?\n",
        "\n",
        "</div>"
      ]
    },
    {
      "cell_type": "markdown",
      "metadata": {
        "id": "CZKgi0ih-qVB"
      },
      "source": [
        "[Sekarang saatnya memeriksa kolom `income_type`. Periksalah nilai seperti apa yang dimuat di dalam kolom ini dan masalah apa yang mungkin perlu Anda atasi]"
      ]
    },
    {
      "cell_type": "code",
      "execution_count": null,
      "metadata": {
        "id": "H5syv3bI-qVB",
        "outputId": "f12495dc-8409-4c54-840b-d99476003045"
      },
      "outputs": [
        {
          "name": "stdout",
          "output_type": "stream",
          "text": [
            "['employee' 'retiree' 'business' 'civil servant' 'unemployed'\n",
            " 'entrepreneur' 'student' 'paternity / maternity leave']\n",
            "employee                       11084\n",
            "business                        5078\n",
            "retiree                         3829\n",
            "civil servant                   1457\n",
            "unemployed                         2\n",
            "entrepreneur                       2\n",
            "paternity / maternity leave        1\n",
            "student                            1\n",
            "Name: income_type, dtype: int64\n"
          ]
        }
      ],
      "source": [
        "# Mari kita lihat nilai dalam kolom ini\n",
        "print(cs['income_type'].unique())\n",
        "print(cs['income_type'].value_counts())"
      ]
    },
    {
      "cell_type": "markdown",
      "metadata": {
        "id": "yFl6oV4N-qVB"
      },
      "source": [
        "<div class=\"alert alert-danger\">\n",
        "<b>Chamdani's comment v.1</b> <a class=\"tocSkip\"></a>\n",
        "\n",
        "ERROR! data bernilai 1 disini disebabkan karena proses penanganan yang keliru [disini](#error_detected) \n",
        "</div>"
      ]
    },
    {
      "cell_type": "markdown",
      "metadata": {
        "id": "ubMfN1FI-qVC"
      },
      "source": [
        "<div class=\"alert alert-info\">\n",
        "<b>Student answer</b> <a class=\"tocSkip\"></a>\n",
        "\n",
        "Siap kak\n",
        "\n",
        "\n",
        "</div>"
      ]
    },
    {
      "cell_type": "markdown",
      "metadata": {
        "id": "hTFJWui_-qVC"
      },
      "source": [
        "<div class=\"alert alert-success\">\n",
        "<b>Chamdani's comment v.2</b> <a class=\"tocSkip\"></a>\n",
        "\n",
        "Kerja bagus! \n",
        "\n",
        "</div>"
      ]
    },
    {
      "cell_type": "code",
      "execution_count": null,
      "metadata": {
        "id": "LOFfNpkd-qVC"
      },
      "outputs": [],
      "source": [
        "# Atasi nilai yang bermasalah, jika ada"
      ]
    },
    {
      "cell_type": "markdown",
      "metadata": {
        "id": "Wxqbf7p5-qVD"
      },
      "source": [
        "<div class=\"alert alert-danger\">\n",
        "<b>Chamdani's comment v.1</b> <a class=\"tocSkip\"></a>\n",
        "\n",
        "ERROR! data bernilai 1 disini disebabkan karena proses penanganan yang keliru [disini](#error_detected) saran saya hilangkan kode diatas!\n",
        "\n",
        "</div>"
      ]
    },
    {
      "cell_type": "markdown",
      "metadata": {
        "id": "1x7DAOu3-qVD"
      },
      "source": [
        "<div class=\"alert alert-info\">\n",
        "<b>Student answer</b> <a class=\"tocSkip\"></a>\n",
        "\n",
        "Siap kak\n",
        "\n",
        "\n",
        "</div>"
      ]
    },
    {
      "cell_type": "markdown",
      "metadata": {
        "id": "w9Q8wos1-qVD"
      },
      "source": [
        "<div class=\"alert alert-success\">\n",
        "<b>Chamdani's comment v.2</b> <a class=\"tocSkip\"></a>\n",
        "\n",
        "Kerja bagus! \n",
        "\n",
        "</div>"
      ]
    },
    {
      "cell_type": "code",
      "execution_count": null,
      "metadata": {
        "id": "lH5OpI3o-qVE",
        "outputId": "97eea73f-70cf-4a71-f71e-18cfc7e90cf7"
      },
      "outputs": [
        {
          "name": "stdout",
          "output_type": "stream",
          "text": [
            "['employee' 'retiree' 'business' 'civil servant' 'unemployed'\n",
            " 'entrepreneur' 'student' 'paternity / maternity leave']\n",
            "employee                       11119\n",
            "business                        5085\n",
            "retiree                         3856\n",
            "civil servant                   1459\n",
            "unemployed                         2\n",
            "entrepreneur                       2\n",
            "paternity / maternity leave        1\n",
            "student                            1\n",
            "Name: income_type, dtype: int64\n"
          ]
        }
      ],
      "source": [
        "# Periksa hasilnya - pastikan bahwa masalahnya telah diperbaiki\n",
        "print(cs['income_type'].unique())\n",
        "print(cs['income_type'].value_counts())\n"
      ]
    },
    {
      "cell_type": "markdown",
      "metadata": {
        "id": "5u3ZU2hP-qVE"
      },
      "source": [
        "<div class=\"alert alert-warning\">\n",
        "<b>Chamdani's comment v.1</b> <a class=\"tocSkip\"></a>\n",
        "\n",
        "Hebat, Namun cobalah untuk menjelaskan ini secara lebih rinci menggunakan bahasa dan kalimat yang naratif. \n",
        "\n",
        "Jelaskan apa yang kamu temukan:\n",
        "* apakah ada nilai yang aneh atau anomali? \n",
        "* bagaimana nilai anomali itu bisa terjadi? \n",
        "* apa yang akan kamu lakukan untuk mengatasi anomali tersebut?\n",
        "* apa hasilnya?\n",
        "\n",
        "</div>"
      ]
    },
    {
      "cell_type": "markdown",
      "metadata": {
        "id": "D-S7t-Yy-qVF"
      },
      "source": [
        "[Sekarang saatnya melihat apakah ada duplikat di dalam data kita. Jika kita menemukannya, Anda harus memutuskan apa yang akan Anda lakukan dengan duplikat tersebut dan menjelaskan alasannya.]"
      ]
    },
    {
      "cell_type": "code",
      "execution_count": null,
      "metadata": {
        "id": "mzFSDcg1-qVF",
        "outputId": "0cb2c5a5-b920-4c42-fecd-4c827c2967bd"
      },
      "outputs": [
        {
          "name": "stdout",
          "output_type": "stream",
          "text": [
            "71\n"
          ]
        }
      ],
      "source": [
        "# Periksa duplikat\n",
        "print(cs.duplicated().sum())\n"
      ]
    },
    {
      "cell_type": "markdown",
      "metadata": {
        "id": "PAla0up_-qVG"
      },
      "source": [
        "<div class=\"alert alert-success\">\n",
        "<b>Chamdani's comment v.1</b> <a class=\"tocSkip\"></a>\n",
        "\n",
        "kerja bagus!\n",
        "\n",
        "</div>"
      ]
    },
    {
      "cell_type": "code",
      "execution_count": null,
      "metadata": {
        "id": "4uymJdEe-qVG"
      },
      "outputs": [],
      "source": [
        "# Atasi duplikat, jika ada\n",
        "cs=cs.drop_duplicates()"
      ]
    },
    {
      "cell_type": "markdown",
      "metadata": {
        "id": "xE3CkEE--qVG"
      },
      "source": [
        "<div class=\"alert alert-success\">\n",
        "<b>Chamdani's comment v.1</b> <a class=\"tocSkip\"></a>\n",
        "\n",
        "kerja bagus!\n",
        "\n",
        "</div>"
      ]
    },
    {
      "cell_type": "code",
      "execution_count": null,
      "metadata": {
        "scrolled": true,
        "id": "1jICxyh9-qVH",
        "outputId": "f52b3ab8-78c4-43a8-9c56-38d49f18afde"
      },
      "outputs": [
        {
          "name": "stdout",
          "output_type": "stream",
          "text": [
            "0\n"
          ]
        }
      ],
      "source": [
        "# Lakukan pemeriksaan terakhir untuk mengecek apakah kita memiliki duplikat\n",
        "print(cs.duplicated().sum())"
      ]
    },
    {
      "cell_type": "markdown",
      "metadata": {
        "id": "WVL_HQ6M-qVI"
      },
      "source": [
        "<div class=\"alert alert-success\">\n",
        "<b>Chamdani's comment v.1</b> <a class=\"tocSkip\"></a>\n",
        "\n",
        "kerja bagus!\n",
        "\n",
        "</div>"
      ]
    },
    {
      "cell_type": "code",
      "execution_count": null,
      "metadata": {
        "id": "WnSBgs6A-qVI",
        "outputId": "1a96b452-8662-4205-fa88-5f15b4dfbad8"
      },
      "outputs": [
        {
          "name": "stdout",
          "output_type": "stream",
          "text": [
            "<class 'pandas.core.frame.DataFrame'>\n",
            "Int64Index: 21454 entries, 0 to 21524\n",
            "Data columns (total 12 columns):\n",
            " #   Column            Non-Null Count  Dtype  \n",
            "---  ------            --------------  -----  \n",
            " 0   children          21454 non-null  int64  \n",
            " 1   days_employed     19351 non-null  float64\n",
            " 2   dob_years         21454 non-null  int64  \n",
            " 3   education         21454 non-null  object \n",
            " 4   education_id      21454 non-null  int64  \n",
            " 5   family_status     21454 non-null  object \n",
            " 6   family_status_id  21454 non-null  int64  \n",
            " 7   gender            21454 non-null  object \n",
            " 8   income_type       21454 non-null  object \n",
            " 9   debt              21454 non-null  int64  \n",
            " 10  total_income      19351 non-null  float64\n",
            " 11  purpose           21454 non-null  object \n",
            "dtypes: float64(2), int64(5), object(5)\n",
            "memory usage: 2.1+ MB\n"
          ]
        }
      ],
      "source": [
        "# Periksa ukuran dataset yang sekarang Anda miliki setelah manipulasi pertama yang Anda lakukan\n",
        "cs.info()"
      ]
    },
    {
      "cell_type": "markdown",
      "metadata": {
        "id": "MPajYQ37-qVI"
      },
      "source": [
        "<div class=\"alert alert-success\">\n",
        "<b>Chamdani's comment v.1</b> <a class=\"tocSkip\"></a>\n",
        "\n",
        "kerja bagus!\n",
        "\n",
        "</div>"
      ]
    },
    {
      "cell_type": "markdown",
      "metadata": {
        "id": "ohd6HANn-qVJ"
      },
      "source": [
        "[Jelaskan *dataset* baru Anda: jelaskan secara singkat apa saja perubahannya dan seberapa besar persentase perubahannya, jika ada.]\n",
        "\n",
        "perubahan yang dilakukan pada dataset adalah untuk mengisi data yang salah pada setiap kolom seperti umur, status pernikahan, jenis income dll. kemudian kita menghapus duplikat yang ada dalam data, data awal adalah 21525 dan data setelah dilakukan pembersihan tersisa 21408"
      ]
    },
    {
      "cell_type": "markdown",
      "metadata": {
        "id": "x1UvhUIl-qVJ"
      },
      "source": [
        "<div class=\"alert alert-success\">\n",
        "<b>Chamdani's comment v.1</b> <a class=\"tocSkip\"></a>\n",
        "\n",
        "Kerja bagus!\n",
        "\n",
        "</div>"
      ]
    },
    {
      "cell_type": "markdown",
      "metadata": {
        "id": "RRNdwQ8P-qVK"
      },
      "source": [
        "# Bekerja dengan nilai yang hilang"
      ]
    },
    {
      "cell_type": "markdown",
      "metadata": {
        "id": "quEI_4UU-qVK"
      },
      "source": [
        "[Untuk mempercepat pekerjaan dengan sejumlah data, Anda mungkin ingin menggunakan *dictionary* untuk beberapa nilai yang memiliki ID. Jelaskan mengapa dan *dictionary* apakah yang akan Anda gunakan.]"
      ]
    },
    {
      "cell_type": "code",
      "execution_count": null,
      "metadata": {
        "scrolled": true,
        "id": "c2Q9DvCc-qVK",
        "outputId": "b43b81c6-bc4e-4267-ca8a-ded8a2396025"
      },
      "outputs": [
        {
          "name": "stdout",
          "output_type": "stream",
          "text": [
            "{0: \"bachelor's degree\", 1: 'secondary education', 2: 'some college', 3: 'primary education', 4: 'graduate degree'}\n",
            "{0: 'married', 1: 'civil partnership', 2: 'widow / widower', 3: 'divorced', 4: 'unmarried'}\n"
          ]
        }
      ],
      "source": [
        "# Temukan dictionary\n",
        "\n",
        "dict_edu = cs.set_index('education_id').to_dict()['education']\n",
        "dict_fam = cs.set_index('family_status_id').to_dict()['family_status']\n",
        "print(dict_edu)\n",
        "print(dict_fam)"
      ]
    },
    {
      "cell_type": "markdown",
      "metadata": {
        "id": "owERLnr9-qVL"
      },
      "source": [
        "<div class=\"alert alert-danger\">\n",
        "<b>Chamdani's comment v.1</b> <a class=\"tocSkip\"></a>\n",
        "\n",
        "Kamu bisa gunakan fungsi `zip` dan `dict` dari python untuk melakukannya. Baca [disini](https://cmdlinetips.com/2021/04/convert-two-column-values-from-pandas-dataframe-to-a-dictionary/)\n",
        "\n",
        "</div>"
      ]
    },
    {
      "cell_type": "markdown",
      "metadata": {
        "id": "ilGVpunB-qVL"
      },
      "source": [
        "<div class=\"alert alert-info\">\n",
        "<b>Student answer</b> <a class=\"tocSkip\"></a>\n",
        "\n",
        "Siap kak\n",
        "\n",
        "\n",
        "</div>"
      ]
    },
    {
      "cell_type": "markdown",
      "metadata": {
        "id": "V35U5cTi-qVM"
      },
      "source": [
        "<div class=\"alert alert-success\">\n",
        "<b>Chamdani's comment v.2</b> <a class=\"tocSkip\"></a>\n",
        "\n",
        "Kerja bagus! \n",
        "\n",
        "</div>"
      ]
    },
    {
      "cell_type": "markdown",
      "metadata": {
        "id": "bW-C5vsR-qVM"
      },
      "source": [
        "### Memperbaiki nilai yang hilang di `total_income`"
      ]
    },
    {
      "cell_type": "markdown",
      "metadata": {
        "id": "qHurusNG-qVM"
      },
      "source": [
        "[Jelaskan secara singkat kolom dengan nilai yang hilang manakah yang perlu Anda tangani. Jelaskan bagaimana Anda akan memperbaikinya.]\n",
        "\n",
        "\n",
        "[Mulailah dengan mengatasi total nilai pendapatan yang hilang. Buatlah kategori usia untuk nasabah. Buatlah kolom baru yang memuat kategori usia. Strategi ini dapat membantu untuk menghitung total nilai pendapatan.]\n"
      ]
    },
    {
      "cell_type": "code",
      "execution_count": null,
      "metadata": {
        "id": "id6a-vmc-qVN",
        "outputId": "64fce15b-6bf7-4369-d541-fdb4b423193f"
      },
      "outputs": [
        {
          "name": "stdout",
          "output_type": "stream",
          "text": [
            "19\n",
            "75\n"
          ]
        }
      ],
      "source": [
        "# Mari kita tulis sebuah fungsi untuk menghitung kategori usia\n",
        "\n",
        "print(cs['dob_years'].min())\n",
        "print(cs['dob_years'].max())\n",
        "def age_category(row) :\n",
        "    age = row['dob_years']\n",
        "    if age >10 and age <=20 :\n",
        "        return '11-20'\n",
        "    elif age >20 and age <=30 :\n",
        "        return '21-30'\n",
        "    elif age >30 and age <=40 :\n",
        "        return '31-40'\n",
        "    elif age >40 and age <=50 :\n",
        "        return '41-50'\n",
        "    elif age >50 and age <=60 :\n",
        "        return '51-60'\n",
        "    elif age >60 and age <=70 :\n",
        "        return '61-70'\n",
        "    else :\n",
        "        return '70+'\n"
      ]
    },
    {
      "cell_type": "markdown",
      "metadata": {
        "id": "hUpDH6m3-qVN"
      },
      "source": [
        "<div class=\"alert alert-success\">\n",
        "<b>Chamdani's comment v.1</b> <a class=\"tocSkip\"></a>\n",
        "\n",
        "kerja bagus!\n",
        "\n",
        "</div>"
      ]
    },
    {
      "cell_type": "code",
      "execution_count": null,
      "metadata": {
        "id": "1ILGhrZL-qVO"
      },
      "outputs": [],
      "source": [
        "# Lakukan pengujian untuk melihat apakah fungsi Anda bekerja atau tidak"
      ]
    },
    {
      "cell_type": "code",
      "execution_count": null,
      "metadata": {
        "id": "AfvACcqn-qVO"
      },
      "outputs": [],
      "source": [
        "# Buatlah kolom baru berdasarkan fungsi\n",
        "cs['age_category'] = cs.apply(age_category, axis=1)"
      ]
    },
    {
      "cell_type": "markdown",
      "metadata": {
        "id": "VU5KR-tG-qVO"
      },
      "source": [
        "<div class=\"alert alert-success\">\n",
        "<b>Chamdani's comment v.1</b> <a class=\"tocSkip\"></a>\n",
        "\n",
        "kerja bagus!\n",
        "\n",
        "</div>"
      ]
    },
    {
      "cell_type": "code",
      "execution_count": null,
      "metadata": {
        "id": "00RcfKJU-qVP",
        "outputId": "cc3b32ee-f6e7-453e-9c98-a61804e83304"
      },
      "outputs": [
        {
          "name": "stdout",
          "output_type": "stream",
          "text": [
            "   children  days_employed  dob_years            education  education_id  \\\n",
            "0         1    8437.673028         42    bachelor's degree             0   \n",
            "1         1    4024.803754         36  secondary education             1   \n",
            "2         0    5623.422610         33  secondary education             1   \n",
            "3         3    4124.747207         32  secondary education             1   \n",
            "4         0   12410.000000         53  secondary education             1   \n",
            "\n",
            "       family_status  family_status_id gender income_type  debt  total_income  \\\n",
            "0            married                 0      F    employee     0     40620.102   \n",
            "1            married                 0      F    employee     0     17932.802   \n",
            "2            married                 0      M    employee     0     23341.752   \n",
            "3            married                 0      M    employee     0     42820.568   \n",
            "4  civil partnership                 1      F     retiree     0     25378.572   \n",
            "\n",
            "                   purpose age_category  \n",
            "0    purchase of the house        41-50  \n",
            "1             car purchase        31-40  \n",
            "2    purchase of the house        31-40  \n",
            "3  supplementary education        31-40  \n",
            "4        to have a wedding        51-60  \n",
            "<class 'pandas.core.frame.DataFrame'>\n",
            "Int64Index: 21454 entries, 0 to 21524\n",
            "Data columns (total 13 columns):\n",
            " #   Column            Non-Null Count  Dtype  \n",
            "---  ------            --------------  -----  \n",
            " 0   children          21454 non-null  int64  \n",
            " 1   days_employed     19351 non-null  float64\n",
            " 2   dob_years         21454 non-null  int64  \n",
            " 3   education         21454 non-null  object \n",
            " 4   education_id      21454 non-null  int64  \n",
            " 5   family_status     21454 non-null  object \n",
            " 6   family_status_id  21454 non-null  int64  \n",
            " 7   gender            21454 non-null  object \n",
            " 8   income_type       21454 non-null  object \n",
            " 9   debt              21454 non-null  int64  \n",
            " 10  total_income      19351 non-null  float64\n",
            " 11  purpose           21454 non-null  object \n",
            " 12  age_category      21454 non-null  object \n",
            "dtypes: float64(2), int64(5), object(6)\n",
            "memory usage: 2.3+ MB\n"
          ]
        }
      ],
      "source": [
        "# Periksa bagaimana nilai di dalam kolom baru\n",
        "print(cs.head())\n",
        "cs.info()"
      ]
    },
    {
      "cell_type": "markdown",
      "metadata": {
        "id": "0Gqe1pkz-qVP"
      },
      "source": [
        "<div class=\"alert alert-success\">\n",
        "<b>Chamdani's comment v.1</b> <a class=\"tocSkip\"></a>\n",
        "\n",
        "kerja bagus!\n",
        "\n",
        "</div>"
      ]
    },
    {
      "cell_type": "markdown",
      "metadata": {
        "id": "eGHnIbrw-qVQ"
      },
      "source": [
        "[Pikirkan tentang faktor-faktor yang biasanya bergantung pada pendapatan. Pada akhirnya, Anda akan mengetahui apakah Anda harus menggunakan nilai rata-rata atau median untuk mengganti nilai yang hilang. Untuk membuat keputusan ini, Anda mungkin ingin melihat distribusi faktor-faktor yang Anda identifikasi sebagai dampak dari pendapatan seseorang.]"
      ]
    },
    {
      "cell_type": "markdown",
      "metadata": {
        "id": "xhiRrjhI-qVQ"
      },
      "source": [
        "[Buatlah tabel yang hanya memuat data tanpa nilai yang hilang. Data ini akan digunakan untuk memperbaiki nilai yang hilang.]"
      ]
    },
    {
      "cell_type": "code",
      "execution_count": null,
      "metadata": {
        "id": "jeL3bZVj-qVQ",
        "outputId": "9153be11-f5dd-488e-bccf-069b804ded9e"
      },
      "outputs": [
        {
          "name": "stdout",
          "output_type": "stream",
          "text": [
            "children            0\n",
            "days_employed       0\n",
            "dob_years           0\n",
            "education           0\n",
            "education_id        0\n",
            "family_status       0\n",
            "family_status_id    0\n",
            "gender              0\n",
            "income_type         0\n",
            "debt                0\n",
            "total_income        0\n",
            "purpose             0\n",
            "age_category        0\n",
            "dtype: int64\n"
          ]
        }
      ],
      "source": [
        "# Buat tabel tanpa nilai yang hilang dan tampilkan beberapa barisnya untuk memastikan semuanya berjalan dengan baik\n",
        "cs_nonnull = cs.dropna()\n",
        "print(cs_nonnull.isna().sum())"
      ]
    },
    {
      "cell_type": "markdown",
      "metadata": {
        "id": "p--vQmn5-qVR"
      },
      "source": [
        "<div class=\"alert alert-success\">\n",
        "<b>Chamdani's comment v.1</b> <a class=\"tocSkip\"></a>\n",
        "\n",
        "kerja bagus!\n",
        "\n",
        "</div>"
      ]
    },
    {
      "cell_type": "code",
      "execution_count": null,
      "metadata": {
        "id": "6-ajHzbF-qVR",
        "outputId": "deec5f35-46dc-45b8-f9fb-fdc802b25255"
      },
      "outputs": [
        {
          "name": "stdout",
          "output_type": "stream",
          "text": [
            "26787.568354658677\n",
            "26787.568354658673\n",
            "children                0.544327\n",
            "days_employed        4541.420155\n",
            "dob_years              43.473665\n",
            "education_id            0.817097\n",
            "family_status_id        0.973898\n",
            "debt                    0.081150\n",
            "total_income        26787.568355\n",
            "dtype: float64\n",
            "children                0.541936\n",
            "days_employed        4541.420155\n",
            "dob_years              43.457547\n",
            "education_id            0.819079\n",
            "family_status_id        0.972249\n",
            "debt                    0.081184\n",
            "total_income        26787.568355\n",
            "dtype: float64\n"
          ]
        }
      ],
      "source": [
        "# Perhatikan nilai rata-rata untuk pendapatan berdasarkan faktor yang telah Anda identifikasi\n",
        "print(cs['total_income'].mean())\n",
        "print(cs_nonnull['total_income'].mean())\n",
        "print(cs.mean())\n",
        "print(cs_nonnull.mean())"
      ]
    },
    {
      "cell_type": "markdown",
      "metadata": {
        "id": "ZQyiesgN-qVR"
      },
      "source": [
        "<div class=\"alert alert-success\">\n",
        "<b>Chamdani's comment v.1</b> <a class=\"tocSkip\"></a>\n",
        "\n",
        "kerja bagus!\n",
        "\n",
        "</div>"
      ]
    },
    {
      "cell_type": "code",
      "execution_count": null,
      "metadata": {
        "scrolled": true,
        "id": "nRSfgOu1-qVS",
        "outputId": "8b691e15-4ec8-4c62-bc4e-ac756bcccf68"
      },
      "outputs": [
        {
          "name": "stdout",
          "output_type": "stream",
          "text": [
            "23202.87\n",
            "23202.87\n",
            "children                0.000000\n",
            "days_employed        2188.756445\n",
            "dob_years              43.000000\n",
            "education_id            1.000000\n",
            "family_status_id        0.000000\n",
            "debt                    0.000000\n",
            "total_income        23202.870000\n",
            "dtype: float64\n",
            "children                0.000000\n",
            "days_employed        2188.756445\n",
            "dob_years              43.000000\n",
            "education_id            1.000000\n",
            "family_status_id        0.000000\n",
            "debt                    0.000000\n",
            "total_income        23202.870000\n",
            "dtype: float64\n"
          ]
        }
      ],
      "source": [
        "# Perhatikan nilai median untuk pendapatan berdasarkan faktor yang telah Anda identifikasi\n",
        "print(cs['total_income'].median())\n",
        "print(cs_nonnull['total_income'].median())\n",
        "print(cs.median())\n",
        "print(cs_nonnull.median())\n"
      ]
    },
    {
      "cell_type": "markdown",
      "metadata": {
        "id": "rc0Bofp0-qVS"
      },
      "source": [
        "<div class=\"alert alert-success\">\n",
        "<b>Chamdani's comment v.1</b> <a class=\"tocSkip\"></a>\n",
        "\n",
        "kerja bagus!\n",
        "\n",
        "</div>"
      ]
    },
    {
      "cell_type": "markdown",
      "metadata": {
        "id": "9opGifH9-qVT"
      },
      "source": [
        "[Ulangi perbandingan tersebut untuk beberapa faktor. Pastikan Anda mempertimbangkan berbagai aspek dan menjelaskan proses berpikir Anda.]\n",
        "\n",
        "antara mean dan median kedua data yang memiliki nilai hilang dan nilai yang tidak hilang memiliki nilai yang identik."
      ]
    },
    {
      "cell_type": "markdown",
      "metadata": {
        "id": "3jOeDGZ5-qVT"
      },
      "source": [
        "<div class=\"alert alert-success\">\n",
        "<b>Chamdani's comment v.1</b> <a class=\"tocSkip\"></a>\n",
        "\n",
        "kerja bagus!\n",
        "\n",
        "</div>"
      ]
    },
    {
      "cell_type": "markdown",
      "metadata": {
        "id": "WX-eZGor-qVT"
      },
      "source": [
        "[Buatlah keputusan tentang karakteristik yang paling menentukan pendapatan dan apakah Anda akan menggunakan median atau rata-rata. Jelaskan mengapa Anda membuat keputusan ini]\n",
        "mean dan median memiliki nilai yang tidak terlalu berbeda namun untuk total income kita akan menggunakan nilai median untuk mengisi data yang hilang karena jenis nilai dari total income bisa saja memiliki outlier yang extreme yang akan membuat nilai rata rata tidak akurat"
      ]
    },
    {
      "cell_type": "markdown",
      "metadata": {
        "id": "qEAbaKhi-qVT"
      },
      "source": [
        "<div class=\"alert alert-success\">\n",
        "<b>Chamdani's comment v.1</b> <a class=\"tocSkip\"></a>\n",
        "\n",
        "kerja bagus!\n",
        "\n",
        "</div>"
      ]
    },
    {
      "cell_type": "code",
      "execution_count": null,
      "metadata": {
        "id": "_R6fBPY2-qVU"
      },
      "outputs": [],
      "source": [
        "#  Tulis fungsi yang akan kita gunakan untuk mengisi nilai yang hilang\n",
        "median_income_cs = cs_nonnull['total_income'].median() \n",
        "\n",
        "def fillna_income(row) :\n",
        "    row['total_income'] = row['total_income'].fillna(median_income_cs)\n"
      ]
    },
    {
      "cell_type": "markdown",
      "metadata": {
        "id": "eN150Raq-qVU"
      },
      "source": [
        "<div class=\"alert alert-success\">\n",
        "<b>Chamdani's comment v.1</b> <a class=\"tocSkip\"></a>\n",
        "\n",
        "kerja bagus!\n",
        "\n",
        "</div>"
      ]
    },
    {
      "cell_type": "code",
      "execution_count": null,
      "metadata": {
        "scrolled": true,
        "id": "5Cg3lZkC-qVU"
      },
      "outputs": [],
      "source": [
        "# Memeriksa bagaimana nilai di dalam kolom baru\n",
        "\n"
      ]
    },
    {
      "cell_type": "code",
      "execution_count": null,
      "metadata": {
        "id": "fd1tFthP-qVV"
      },
      "outputs": [],
      "source": [
        "# Terapkan fungsi tersebut ke setiap baris\n",
        "fillna_income(cs)"
      ]
    },
    {
      "cell_type": "markdown",
      "metadata": {
        "id": "GGf9sQUB-qVV"
      },
      "source": [
        "<div class=\"alert alert-success\">\n",
        "<b>Chamdani's comment v.1</b> <a class=\"tocSkip\"></a>\n",
        "\n",
        "kerja bagus!\n",
        "\n",
        "</div>"
      ]
    },
    {
      "cell_type": "code",
      "execution_count": null,
      "metadata": {
        "id": "-Gf0DKcg-qVV",
        "outputId": "d543f04f-80c1-4c91-d224-a8b725cbe7f4"
      },
      "outputs": [
        {
          "name": "stdout",
          "output_type": "stream",
          "text": [
            "0\n"
          ]
        }
      ],
      "source": [
        "# Periksa apakah kita mendapatkan kesalahan\n",
        "print(cs['total_income'].isna().sum())"
      ]
    },
    {
      "cell_type": "markdown",
      "metadata": {
        "id": "QaOS5gFX-qVV"
      },
      "source": [
        "<div class=\"alert alert-success\">\n",
        "<b>Chamdani's comment v.1</b> <a class=\"tocSkip\"></a>\n",
        "\n",
        "kerja bagus!\n",
        "\n",
        "</div>"
      ]
    },
    {
      "cell_type": "markdown",
      "metadata": {
        "id": "eu8afr90-qVV"
      },
      "source": [
        "[Jika Anda menemukan kesalahan dalam menyiapkan nilai untuk data yang hilang, mungkin berarti ada sesuatu yang istimewa tentang data untuk kategori tersebut. Mari pikirkan - Anda mungkin ingin memperbaiki beberapa hal secara manual, jika terdapat cukup data untuk menemukan median/rata-rata.]\n"
      ]
    },
    {
      "cell_type": "code",
      "execution_count": null,
      "metadata": {
        "scrolled": true,
        "id": "c7a08HEF-qVW",
        "outputId": "4f1dc9f3-a8bd-4f55-8236-2e063d9783ad"
      },
      "outputs": [
        {
          "name": "stdout",
          "output_type": "stream",
          "text": [
            "[40620.102 17932.802 23341.752 ... 14347.61  39054.888 13127.587]\n"
          ]
        }
      ],
      "source": [
        "# Ganti nilai yang hilang jika terdapat kesalahan\n",
        "print(cs['total_income'].unique())"
      ]
    },
    {
      "cell_type": "markdown",
      "metadata": {
        "id": "9EU8Sj74-qVW"
      },
      "source": [
        "<div class=\"alert alert-success\">\n",
        "<b>Chamdani's comment v.1</b> <a class=\"tocSkip\"></a>\n",
        "\n",
        "kerja bagus!\n",
        "\n",
        "</div>"
      ]
    },
    {
      "cell_type": "markdown",
      "metadata": {
        "id": "TopJ_Crf-qVW"
      },
      "source": [
        "[Setelah Anda selesai dengan `total_income`, periksa apakah jumlah total nilai di kolom ini sesuai dengan jumlah nilai di kolom lain.]"
      ]
    },
    {
      "cell_type": "code",
      "execution_count": null,
      "metadata": {
        "scrolled": true,
        "id": "jOfjZA9S-qVW",
        "outputId": "ae49f4e2-68bc-4b53-d82c-2d02bacd0308"
      },
      "outputs": [
        {
          "name": "stdout",
          "output_type": "stream",
          "text": [
            "<class 'pandas.core.frame.DataFrame'>\n",
            "Int64Index: 21454 entries, 0 to 21524\n",
            "Data columns (total 13 columns):\n",
            " #   Column            Non-Null Count  Dtype  \n",
            "---  ------            --------------  -----  \n",
            " 0   children          21454 non-null  int64  \n",
            " 1   days_employed     19351 non-null  float64\n",
            " 2   dob_years         21454 non-null  int64  \n",
            " 3   education         21454 non-null  object \n",
            " 4   education_id      21454 non-null  int64  \n",
            " 5   family_status     21454 non-null  object \n",
            " 6   family_status_id  21454 non-null  int64  \n",
            " 7   gender            21454 non-null  object \n",
            " 8   income_type       21454 non-null  object \n",
            " 9   debt              21454 non-null  int64  \n",
            " 10  total_income      21454 non-null  float64\n",
            " 11  purpose           21454 non-null  object \n",
            " 12  age_category      21454 non-null  object \n",
            "dtypes: float64(2), int64(5), object(6)\n",
            "memory usage: 2.3+ MB\n"
          ]
        }
      ],
      "source": [
        "# Periksa jumlah entri di kolom\n",
        "cs.info()\n"
      ]
    },
    {
      "cell_type": "markdown",
      "metadata": {
        "id": "pJQLXFa8-qVX"
      },
      "source": [
        "<div class=\"alert alert-success\">\n",
        "<b>Chamdani's comment v.1</b> <a class=\"tocSkip\"></a>\n",
        "\n",
        "kerja bagus!\n",
        "\n",
        "</div>"
      ]
    },
    {
      "cell_type": "markdown",
      "metadata": {
        "id": "U3NvzuWf-qVX"
      },
      "source": [
        "###  Memperbaiki nilai di `days_employed`"
      ]
    },
    {
      "cell_type": "markdown",
      "metadata": {
        "id": "YVQYaQT8-qVY"
      },
      "source": [
        "[Pikirkan tentang parameter yang dapat membantu Anda memperbaiki nilai yang hilang di kolom ini. Pada akhirnya, Anda akan mengetahui apakah Anda harus menggunakan nilai rata-rata atau median untuk mengganti nilai yang hilang. Anda mungkin perlu melakukan penelitian yang sama dengan yang Anda lakukan saat memperbaiki data di kolom sebelumnya.]"
      ]
    },
    {
      "cell_type": "code",
      "execution_count": null,
      "metadata": {
        "pycharm": {
          "name": "#%%\n"
        },
        "id": "fHnkbEaH-qVY",
        "outputId": "18946c78-cb3c-4af8-f332-29923a39f005"
      },
      "outputs": [
        {
          "name": "stdout",
          "output_type": "stream",
          "text": [
            "2188.7564450779378\n"
          ]
        }
      ],
      "source": [
        "# Distribusi median dari `days_employed` berdasarkan parameter yang Anda identifikasi\n",
        "print(cs['days_employed'].median())\n",
        "\n"
      ]
    },
    {
      "cell_type": "markdown",
      "metadata": {
        "id": "v7Q4H3o7-qVY"
      },
      "source": [
        "<div class=\"alert alert-success\">\n",
        "<b>Chamdani's comment v.1</b> <a class=\"tocSkip\"></a>\n",
        "\n",
        "kerja bagus!\n",
        "\n",
        "</div>"
      ]
    },
    {
      "cell_type": "code",
      "execution_count": null,
      "metadata": {
        "id": "A_2uZ8wO-qVZ",
        "outputId": "a12e7bcf-b6cd-4e08-867d-b2f2b4a0071a"
      },
      "outputs": [
        {
          "name": "stdout",
          "output_type": "stream",
          "text": [
            "4541.420154740021\n",
            "\n"
          ]
        }
      ],
      "source": [
        "# Distribusi rata-rata dari `days_employed` berdasarkan parameter yang Anda identifikasi\n",
        "print(cs['days_employed'].mean())\n",
        "print()"
      ]
    },
    {
      "cell_type": "markdown",
      "metadata": {
        "id": "226yrxOY-qVZ"
      },
      "source": [
        "<div class=\"alert alert-success\">\n",
        "<b>Chamdani's comment v.1</b> <a class=\"tocSkip\"></a>\n",
        "\n",
        "kerja bagus!\n",
        "\n",
        "</div>"
      ]
    },
    {
      "cell_type": "markdown",
      "metadata": {
        "id": "VTLlRkVi-qVa"
      },
      "source": [
        "[Tentukan apa yang akan Anda gunakan: rata-rata atau median. Jelaskan mengapa.]\n",
        "menggunakan median karena nilai dari kolom days_employed memiliki nilai yang sangat tinggi dan outlier yang extreme jadi kita memilih nilai tengah dengan menggunakan median"
      ]
    },
    {
      "cell_type": "code",
      "execution_count": null,
      "metadata": {
        "id": "88z8ZP9j-qVa"
      },
      "outputs": [],
      "source": [
        "# Mari tulis fungsi yang menghitung rata-rata atau median (tergantung keputusan Anda) berdasarkan parameter yang Anda identifikasi\n",
        "median_days_employed = cs['days_employed'].median()\n",
        "def fill_median_days_employed(row) :\n",
        "    row['days_employed'] = row['days_employed'].fillna(median_days_employed)"
      ]
    },
    {
      "cell_type": "markdown",
      "metadata": {
        "id": "Pnvlod0S-qVa"
      },
      "source": [
        "<div class=\"alert alert-success\">\n",
        "<b>Chamdani's comment v.1</b> <a class=\"tocSkip\"></a>\n",
        "\n",
        "kerja bagus!\n",
        "\n",
        "</div>"
      ]
    },
    {
      "cell_type": "code",
      "execution_count": null,
      "metadata": {
        "id": "B-y7jKUk-qVb"
      },
      "outputs": [],
      "source": [
        "# Periksa apakah fungsi Anda dapat bekerja\n",
        "fill_median_days_employed(cs)\n"
      ]
    },
    {
      "cell_type": "markdown",
      "metadata": {
        "id": "3e0cLWZX-qVb"
      },
      "source": [
        "<div class=\"alert alert-success\">\n",
        "<b>Chamdani's comment v.1</b> <a class=\"tocSkip\"></a>\n",
        "\n",
        "kerja bagus!\n",
        "\n",
        "</div>"
      ]
    },
    {
      "cell_type": "markdown",
      "metadata": {
        "id": "cho_CclH-qVb"
      },
      "source": [
        "<div class=\"alert alert-danger\">\n",
        "<b>Chamdani's comment v.1</b> <a class=\"tocSkip\"></a>\n",
        "\n",
        "Kamu bisa menghapus kode `fill_median_days_employed(cs)` karena sudah dilakukan diatas:)\n",
        "\n",
        "</div>"
      ]
    },
    {
      "cell_type": "markdown",
      "metadata": {
        "id": "_9Ax52nb-qVb"
      },
      "source": [
        "<div class=\"alert alert-info\">\n",
        "<b>Student answer</b> <a class=\"tocSkip\"></a>\n",
        "\n",
        "Siap kak\n",
        "\n",
        "\n",
        "</div>"
      ]
    },
    {
      "cell_type": "markdown",
      "metadata": {
        "id": "V4U5aU8l-qVb"
      },
      "source": [
        "<div class=\"alert alert-success\">\n",
        "<b>Chamdani's comment v.2</b> <a class=\"tocSkip\"></a>\n",
        "\n",
        "Kerja bagus! \n",
        "\n",
        "</div>"
      ]
    },
    {
      "cell_type": "code",
      "execution_count": null,
      "metadata": {
        "id": "99e9zNfz-qVc",
        "outputId": "70dd0003-5fae-4a49-c318-c5cbda80c1c5"
      },
      "outputs": [
        {
          "name": "stdout",
          "output_type": "stream",
          "text": [
            "<class 'pandas.core.frame.DataFrame'>\n",
            "Int64Index: 21454 entries, 0 to 21524\n",
            "Data columns (total 13 columns):\n",
            " #   Column            Non-Null Count  Dtype  \n",
            "---  ------            --------------  -----  \n",
            " 0   children          21454 non-null  int64  \n",
            " 1   days_employed     21454 non-null  float64\n",
            " 2   dob_years         21454 non-null  int64  \n",
            " 3   education         21454 non-null  object \n",
            " 4   education_id      21454 non-null  int64  \n",
            " 5   family_status     21454 non-null  object \n",
            " 6   family_status_id  21454 non-null  int64  \n",
            " 7   gender            21454 non-null  object \n",
            " 8   income_type       21454 non-null  object \n",
            " 9   debt              21454 non-null  int64  \n",
            " 10  total_income      21454 non-null  float64\n",
            " 11  purpose           21454 non-null  object \n",
            " 12  age_category      21454 non-null  object \n",
            "dtypes: float64(2), int64(5), object(6)\n",
            "memory usage: 2.3+ MB\n"
          ]
        }
      ],
      "source": [
        "# Periksa apakah fungsi Anda bekerja\n",
        "cs.info()\n"
      ]
    },
    {
      "cell_type": "markdown",
      "metadata": {
        "id": "c1lcWYqY-qVc"
      },
      "source": [
        "<div class=\"alert alert-success\">\n",
        "<b>Chamdani's comment v.1</b> <a class=\"tocSkip\"></a>\n",
        "\n",
        "kerja bagus!\n",
        "\n",
        "</div>"
      ]
    },
    {
      "cell_type": "code",
      "execution_count": null,
      "metadata": {
        "id": "HQJm1FKm-qVc"
      },
      "outputs": [],
      "source": [
        "# Ganti nilai yang hilang\n",
        "\n"
      ]
    },
    {
      "cell_type": "markdown",
      "metadata": {
        "id": "0-0d4ykw-qVc"
      },
      "source": [
        "[Setelah Anda selesai dengan `total_income`, periksa apakah jumlah total nilai di kolom ini sesuai dengan jumlah nilai di kolom lain.]"
      ]
    },
    {
      "cell_type": "code",
      "execution_count": null,
      "metadata": {
        "id": "utJJdEN4-qVd"
      },
      "outputs": [],
      "source": [
        "# Periksa entri di semua kolom - pastikan kita memperbaiki semua nilai yang hilang"
      ]
    },
    {
      "cell_type": "markdown",
      "metadata": {
        "id": "73nPIb5W-qVd"
      },
      "source": [
        "## Pengkategorian Data\n",
        "\n",
        "[Untuk menjawab pertanyaan dan menguji hipotesis, Anda akan bekerja dengan data yang telah dikategorikan. Lihatlah pertanyaan-pertanyaan yang diajukan kepada Anda dan yang harus Anda jawab. Pikirkan tentang data mana yang perlu dikategorikan untuk menjawab pertanyaan-pertanyaan ini. Di bawah ini, Anda akan menemukan templat yang bisa Anda gunakan untuk mengkategorikan data. Proses pertama mencakup data teks; yang kedua membahas data numerik yang perlu dikategorikan. Anda dapat menggunakan kedua petunjuk yang disarankan atau tidak sama sekali - semuanya terserah Anda.]\n",
        "\n",
        "[Terlepas dari keputusan Anda untuk mengatasi pengkategorian, pastikan bahwa Anda secara lugas memberikan penjelasan tentang mengapa Anda membuat keputusan tersebut. Ingat: ini adalah pekerjaan Anda dan Andalah yang berhak membuat segala keputusan.]\n"
      ]
    },
    {
      "cell_type": "code",
      "execution_count": null,
      "metadata": {
        "scrolled": true,
        "id": "bZze-k4G-qVd",
        "outputId": "17b2d840-5262-44d6-f885-f57ab7b0065c"
      },
      "outputs": [
        {
          "data": {
            "text/html": [
              "<div>\n",
              "<style scoped>\n",
              "    .dataframe tbody tr th:only-of-type {\n",
              "        vertical-align: middle;\n",
              "    }\n",
              "\n",
              "    .dataframe tbody tr th {\n",
              "        vertical-align: top;\n",
              "    }\n",
              "\n",
              "    .dataframe thead th {\n",
              "        text-align: right;\n",
              "    }\n",
              "</style>\n",
              "<table border=\"1\" class=\"dataframe\">\n",
              "  <thead>\n",
              "    <tr style=\"text-align: right;\">\n",
              "      <th></th>\n",
              "      <th>children</th>\n",
              "      <th>days_employed</th>\n",
              "      <th>dob_years</th>\n",
              "      <th>education</th>\n",
              "      <th>education_id</th>\n",
              "      <th>family_status</th>\n",
              "      <th>family_status_id</th>\n",
              "      <th>gender</th>\n",
              "      <th>income_type</th>\n",
              "      <th>debt</th>\n",
              "      <th>total_income</th>\n",
              "      <th>purpose</th>\n",
              "      <th>age_category</th>\n",
              "      <th>employed_time</th>\n",
              "      <th>income_level</th>\n",
              "      <th>debt_meaning</th>\n",
              "      <th>purpose_category</th>\n",
              "    </tr>\n",
              "  </thead>\n",
              "  <tbody>\n",
              "    <tr>\n",
              "      <th>0</th>\n",
              "      <td>1</td>\n",
              "      <td>8437.673028</td>\n",
              "      <td>42</td>\n",
              "      <td>bachelor's degree</td>\n",
              "      <td>0</td>\n",
              "      <td>married</td>\n",
              "      <td>0</td>\n",
              "      <td>F</td>\n",
              "      <td>employee</td>\n",
              "      <td>0</td>\n",
              "      <td>40620.102</td>\n",
              "      <td>purchase of the house</td>\n",
              "      <td>41-50</td>\n",
              "      <td>Menengah</td>\n",
              "      <td>High Income</td>\n",
              "      <td>Tidak punya utang</td>\n",
              "      <td>property</td>\n",
              "    </tr>\n",
              "    <tr>\n",
              "      <th>1</th>\n",
              "      <td>1</td>\n",
              "      <td>4024.803754</td>\n",
              "      <td>36</td>\n",
              "      <td>secondary education</td>\n",
              "      <td>1</td>\n",
              "      <td>married</td>\n",
              "      <td>0</td>\n",
              "      <td>F</td>\n",
              "      <td>employee</td>\n",
              "      <td>0</td>\n",
              "      <td>17932.802</td>\n",
              "      <td>car purchase</td>\n",
              "      <td>31-40</td>\n",
              "      <td>Singkat</td>\n",
              "      <td>High Income</td>\n",
              "      <td>Tidak punya utang</td>\n",
              "      <td>car</td>\n",
              "    </tr>\n",
              "  </tbody>\n",
              "</table>\n",
              "</div>"
            ],
            "text/plain": [
              "   children  days_employed  dob_years            education  education_id  \\\n",
              "0         1    8437.673028         42    bachelor's degree             0   \n",
              "1         1    4024.803754         36  secondary education             1   \n",
              "\n",
              "  family_status  family_status_id gender income_type  debt  total_income  \\\n",
              "0       married                 0      F    employee     0     40620.102   \n",
              "1       married                 0      F    employee     0     17932.802   \n",
              "\n",
              "                 purpose age_category employed_time income_level  \\\n",
              "0  purchase of the house        41-50      Menengah  High Income   \n",
              "1           car purchase        31-40       Singkat  High Income   \n",
              "\n",
              "        debt_meaning purpose_category  \n",
              "0  Tidak punya utang         property  \n",
              "1  Tidak punya utang              car  "
            ]
          },
          "execution_count": 163,
          "metadata": {},
          "output_type": "execute_result"
        }
      ],
      "source": [
        "cs.head(2)"
      ]
    },
    {
      "cell_type": "markdown",
      "metadata": {
        "id": "ZwxDdMN3-qVe"
      },
      "source": [
        "<div class=\"alert alert-warning\">\n",
        "<b>Chamdani's comment v.1</b> <a class=\"tocSkip\"></a>\n",
        "\n",
        "Kerja bagus! Kamu tidak perlu menggunakan fungsi `print` untuk mencetak nilai dataframe.\n",
        "\n",
        "</div>"
      ]
    },
    {
      "cell_type": "markdown",
      "metadata": {
        "id": "Xp-dTT6F-qVe"
      },
      "source": [
        "<div class=\"alert alert-success\">\n",
        "<b>Chamdani's comment v.2</b> <a class=\"tocSkip\"></a>\n",
        "\n",
        "Kerja bagus! \n",
        "\n",
        "</div>"
      ]
    },
    {
      "cell_type": "code",
      "execution_count": null,
      "metadata": {
        "id": "mT2ns-6S-qVe",
        "outputId": "48934062-2690-4f8f-cc50-0bcd4366de2b"
      },
      "outputs": [
        {
          "name": "stdout",
          "output_type": "stream",
          "text": [
            "['purchase of the house' 'car purchase' 'supplementary education'\n",
            " 'to have a wedding' 'housing transactions' 'education' 'having a wedding'\n",
            " 'purchase of the house for my family' 'buy real estate'\n",
            " 'buy commercial real estate' 'buy residential real estate'\n",
            " 'construction of own property' 'property' 'building a property'\n",
            " 'buying a second-hand car' 'buying my own car'\n",
            " 'transactions with commercial real estate' 'building a real estate'\n",
            " 'housing' 'transactions with my real estate' 'cars' 'to become educated'\n",
            " 'second-hand car purchase' 'getting an education' 'car'\n",
            " 'wedding ceremony' 'to get a supplementary education'\n",
            " 'purchase of my own house' 'real estate transactions'\n",
            " 'getting higher education' 'to own a car' 'purchase of a car'\n",
            " 'profile education' 'university education'\n",
            " 'buying property for renting out' 'to buy a car' 'housing renovation'\n",
            " 'going to university']\n"
          ]
        }
      ],
      "source": [
        "print(cs['purpose'].unique())"
      ]
    },
    {
      "cell_type": "code",
      "execution_count": null,
      "metadata": {
        "scrolled": true,
        "id": "R073dW8A-qVf"
      },
      "outputs": [],
      "source": [
        "# Tampilkan nilai data yang Anda pilih untuk pengkategorian\n",
        "#kategori untuk days_employed\n",
        "median_days_employed = (cs['days_employed'].median())\n",
        "parameter_hari = cs['days_employed'].max()/3\n",
        "\n",
        "\n",
        "def day_employed_category (jumlah_hari) :\n",
        "    if jumlah_hari >= 0 and jumlah_hari <= parameter_hari :\n",
        "        return 'Singkat'\n",
        "    elif jumlah_hari > parameter_hari and jumlah_hari <= (parameter_hari * 2)  :\n",
        "        return 'Menengah'\n",
        "    else :\n",
        "        return 'Lama'\n",
        "    \n",
        "#kategori untuk total income\n",
        "def level_of_income(tingkat_pendapatan):\n",
        "    if tingkat_pendapatan >= 0 and tingkat_pendapatan <= 1035:\n",
        "        return 'Low Income'\n",
        "    elif tingkat_pendapatan >= 1036 and tingkat_pendapatan <= 4045:\n",
        "        return 'Lower Middle Income'\n",
        "    elif tingkat_pendapatan >= 4046 and tingkat_pendapatan <=12535: \n",
        "        return 'Upper Middle Income'\n",
        "    elif tingkat_pendapatan >= 12536:\n",
        "        return 'High Income'\n",
        "    else :\n",
        "        return 'unknown'\n",
        "    \n",
        "#kategori apakah mempunyai hutang atau tidak\n",
        "def debt (utang) :\n",
        "    if utang == 1 :\n",
        "        return 'Punya utang'\n",
        "    else :\n",
        "        return 'Tidak punya utang'\n",
        "    \n",
        "def purposecategory(value):\n",
        "    housing = [x for x in cs['purpose'] if \"building\" in x or 'real estate' in x or 'housing' in x or 'property' in x or 'house' in x]\n",
        "    car = [x for x in cs['purpose'] if \"car\" in x ]\n",
        "    education = [x for x in cs['purpose'] if \"education\" in x or 'university' in x or 'educated' in x]\n",
        "    wedding = [x for x in cs['purpose'] if \"wedding\" in x ]\n",
        "    renovation = [x for x in cs['purpose'] if \"housing renovation\" in x ]\n",
        "\n",
        "    if value in renovation:\n",
        "        result = 'renovation'\n",
        "    elif value in car:\n",
        "        result = 'car'\n",
        "    elif value in education:\n",
        "        result = 'education'\n",
        "    elif value in wedding:\n",
        "        result = 'wedding'\n",
        "    elif value in housing:\n",
        "        result = 'property'\n",
        "    else:\n",
        "        result = 'other'\n",
        "    return result"
      ]
    },
    {
      "cell_type": "markdown",
      "metadata": {
        "id": "2DJTrvxz-qVf"
      },
      "source": [
        "<div class=\"alert alert-danger\">\n",
        "<b>Chamdani's comment v.1</b> <a class=\"tocSkip\"></a>\n",
        "\n",
        "Untuk fungsi `purposecategory` cobalah menggunakan [List Comprehension](https://www.w3schools.com/python/python_lists_comprehension.asp). Jangan mendefinikan secara manual seperti:\n",
        "    \n",
        "</div>\n",
        "\n",
        "```python\n",
        "    housing = ['building a property', 'building a real estate', .....,'housing transactions']\n",
        "    car = ['buying a second-hand car', 'buying my own car','car', .....,'to buy a car','to own a car']\n",
        "    education = ['education', 'getting an education', ....., 'university education', 'profile education']\n",
        "    wedding = ['having a wedding','to have a wedding','wedding ceremony']\n",
        "    renovation = ['housing renovation']\n",
        "```"
      ]
    },
    {
      "cell_type": "markdown",
      "metadata": {
        "id": "anWbRq33-qVf"
      },
      "source": [
        "<div class=\"alert alert-success\">\n",
        "<b>Chamdani's comment v.2</b> <a class=\"tocSkip\"></a>\n",
        "\n",
        "Kerja bagus! \n",
        "\n",
        "</div>"
      ]
    },
    {
      "cell_type": "code",
      "execution_count": null,
      "metadata": {
        "id": "qhJ-xcSY-qVg"
      },
      "outputs": [],
      "source": [
        "cs['employed_time'] = cs['days_employed'].apply(day_employed_category)\n",
        "cs['income_level'] = cs['total_income'].apply(level_of_income)\n",
        "cs['debt_meaning'] = cs['debt'].apply(debt)\n",
        "cs['purpose_category'] = cs['purpose'].apply(purposecategory)"
      ]
    },
    {
      "cell_type": "markdown",
      "metadata": {
        "id": "EwRFa8eS-qVg"
      },
      "source": [
        "<div class=\"alert alert-success\">\n",
        "<b>Chamdani's comment v.1</b> <a class=\"tocSkip\"></a>\n",
        "\n",
        "kerja bagus!\n",
        "\n",
        "</div>"
      ]
    },
    {
      "cell_type": "markdown",
      "metadata": {
        "id": "QY1YcnYL-qVg"
      },
      "source": [
        "[Mari kita memeriksa nilai unik]"
      ]
    },
    {
      "cell_type": "code",
      "execution_count": null,
      "metadata": {
        "id": "N5eImnAF-qVg",
        "outputId": "22aa0539-5a86-40bc-95d3-50ea04d33702"
      },
      "outputs": [
        {
          "name": "stdout",
          "output_type": "stream",
          "text": [
            "   children  days_employed  dob_years            education  education_id  \\\n",
            "0         1    8437.673028         42    bachelor's degree             0   \n",
            "1         1    4024.803754         36  secondary education             1   \n",
            "2         0    5623.422610         33  secondary education             1   \n",
            "\n",
            "  family_status  family_status_id gender income_type  debt  total_income  \\\n",
            "0       married                 0      F    employee     0     40620.102   \n",
            "1       married                 0      F    employee     0     17932.802   \n",
            "2       married                 0      M    employee     0     23341.752   \n",
            "\n",
            "                 purpose age_category employed_time income_level  \\\n",
            "0  purchase of the house        41-50      Menengah  High Income   \n",
            "1           car purchase        31-40       Singkat  High Income   \n",
            "2  purchase of the house        31-40       Singkat  High Income   \n",
            "\n",
            "        debt_meaning purpose_category  \n",
            "0  Tidak punya utang         property  \n",
            "1  Tidak punya utang              car  \n",
            "2  Tidak punya utang         property  \n"
          ]
        }
      ],
      "source": [
        "# Periksa nilai unik\n",
        "print(cs.head(3))"
      ]
    },
    {
      "cell_type": "markdown",
      "metadata": {
        "id": "Hk1uebuT-qVh"
      },
      "source": [
        "<div class=\"alert alert-danger\">\n",
        "<b>Chamdani's comment v.1</b> <a class=\"tocSkip\"></a>\n",
        "\n",
        "Kerja bagus! Kamu tidak perlu menggunakan fungsi `print` untuk mencetak nilai dataframe.\n",
        "\n",
        "</div>"
      ]
    },
    {
      "cell_type": "markdown",
      "metadata": {
        "id": "2FTyIaRi-qVh"
      },
      "source": [
        "[Kelompok utama apakah yang dapat Anda identifikasi berdasarkan nilai uniknya?]\n",
        "\n",
        "[Kita akan mengkategorikan data kita berdasarkan topik ini.]\n"
      ]
    },
    {
      "cell_type": "code",
      "execution_count": null,
      "metadata": {
        "id": "aRLsUWuq-qVi",
        "outputId": "2f56ea2c-d0d1-4f12-e7a6-b38ff6b24ca5"
      },
      "outputs": [
        {
          "name": "stdout",
          "output_type": "stream",
          "text": [
            "['property' 'car' 'education' 'wedding' 'renovation']\n"
          ]
        }
      ],
      "source": [
        "# Mari kita tulis sebuah fungsi untuk mengategorikan data berdasarkan topik umum\n",
        "print(cs['purpose_category'].unique())"
      ]
    },
    {
      "cell_type": "markdown",
      "metadata": {
        "id": "-1gu5lsj-qVi"
      },
      "source": [
        "<div class=\"alert alert-success\">\n",
        "<b>Chamdani's comment v.1</b> <a class=\"tocSkip\"></a>\n",
        "\n",
        "kerja bagus!\n",
        "\n",
        "</div>"
      ]
    },
    {
      "cell_type": "code",
      "execution_count": null,
      "metadata": {
        "id": "bF-USDX9-qVi"
      },
      "outputs": [],
      "source": [
        "# Buat kolom yang memuat kategori dan hitung nilainya\n"
      ]
    },
    {
      "cell_type": "markdown",
      "metadata": {
        "id": "_5hRgpmj-qVj"
      },
      "source": [
        "[Jika Anda memutuskan untuk mengategorikan data numerik, Anda juga harus membuat kategori untuk data tersebut.]"
      ]
    },
    {
      "cell_type": "code",
      "execution_count": null,
      "metadata": {
        "id": "ImLgx2rf-qVj"
      },
      "outputs": [],
      "source": [
        "# Lihat semua data numerik di kolom yang Anda pilih untuk pengkategorian\n"
      ]
    },
    {
      "cell_type": "code",
      "execution_count": null,
      "metadata": {
        "id": "pMmmfAdv-qVj"
      },
      "outputs": [],
      "source": [
        "# Dapatkan kesimpulan statistik untuk kolomnya\n",
        "\n"
      ]
    },
    {
      "cell_type": "markdown",
      "metadata": {
        "id": "h5nSSspI-qVk"
      },
      "source": [
        "[Tentukan rentang apa yang akan Anda gunakan untuk pengelompokan dan jelaskan alasannya.]"
      ]
    },
    {
      "cell_type": "code",
      "execution_count": null,
      "metadata": {
        "id": "Q-5a2Jba-qVk"
      },
      "outputs": [],
      "source": [
        "# Buat fungsi yang melakukan pengkategorian menjadi kelompok numerik yang berbeda berdasarkan rentang\n",
        "\n"
      ]
    },
    {
      "cell_type": "code",
      "execution_count": null,
      "metadata": {
        "id": "frzRWtfK-qVk"
      },
      "outputs": [],
      "source": [
        "# Buat kolom yang memuat kategori\n"
      ]
    },
    {
      "cell_type": "code",
      "execution_count": null,
      "metadata": {
        "scrolled": true,
        "id": "EoJ9JyYY-qVl"
      },
      "outputs": [],
      "source": [
        "# Hitung setiap nilai kategori untuk melihat pendistribusiannya\n"
      ]
    },
    {
      "cell_type": "markdown",
      "metadata": {
        "id": "HGx0-qDW-qVl"
      },
      "source": [
        "## Memeriksa hipotesis\n"
      ]
    },
    {
      "cell_type": "markdown",
      "metadata": {
        "id": "MV66hwy6-qVl"
      },
      "source": [
        "**Apakah terdapat korelasi antara memiliki anak dengan melakukan pelunasan tepat waktu?**"
      ]
    },
    {
      "cell_type": "code",
      "execution_count": null,
      "metadata": {
        "id": "CMCQ9uv--qVl",
        "outputId": "e8297830-aeaa-4174-cba2-f9616e799a8c"
      },
      "outputs": [
        {
          "name": "stdout",
          "output_type": "stream",
          "text": [
            "   children       debt_meaning\n",
            "0         1  Tidak punya utang\n",
            "1         1  Tidak punya utang\n",
            "2         0  Tidak punya utang\n",
            "debt            0       1  percentage\n",
            "children                             \n",
            "0         13028.0  1063.0        7.54\n",
            "1          4410.0   445.0        9.17\n",
            "2          1858.0   194.0        9.45\n",
            "3           303.0    27.0        8.18\n",
            "4            37.0     4.0        9.76\n",
            "5             9.0     NaN         NaN\n",
            "20           68.0     8.0       10.53\n"
          ]
        }
      ],
      "source": [
        "# Periksa data anak dan data pelunasan tepat waktu\n",
        "print(cs[['children','debt_meaning']].head(3))\n",
        "\n",
        "# Hitung gagal bayar berdasarkan jumlah anak\n",
        "pivot_children = pd.pivot_table(cs,index = 'children', columns ='debt' , values='education', aggfunc = 'count')\n",
        "pivot_children['percentage'] = round(pivot_children[1] / (pivot_children[1]+ pivot_children[0])*100,2)\n",
        "print(pivot_children)"
      ]
    },
    {
      "cell_type": "code",
      "execution_count": null,
      "metadata": {
        "id": "Pu8-X8r6-qVm",
        "outputId": "09f41109-cd88-4a04-91d9-a685e6e9db2e"
      },
      "outputs": [
        {
          "name": "stdout",
          "output_type": "stream",
          "text": [
            "children\n",
            "0      7.54\n",
            "1      9.17\n",
            "2      9.45\n",
            "3      8.18\n",
            "4      9.76\n",
            "5       NaN\n",
            "20    10.53\n",
            "Name: percentage, dtype: float64\n"
          ]
        }
      ],
      "source": [
        "print(pivot_children['percentage'])"
      ]
    },
    {
      "cell_type": "markdown",
      "metadata": {
        "id": "JXtVThvh-qVm"
      },
      "source": [
        "**Kesimpulan**\n",
        "\n",
        "[Tulis kesimpulan Anda berdasarkan manipulasi dan pengamatan yang Anda lakukan.]\n",
        "\n",
        "semakin banyak anak yang dimiliki, maka kemungkinan terlambat bayar hutang semakin tinggi"
      ]
    },
    {
      "cell_type": "markdown",
      "metadata": {
        "id": "gv2XtJuS-qVm"
      },
      "source": [
        "<div class=\"alert alert-success\">\n",
        "<b>Chamdani's comment v.1</b> <a class=\"tocSkip\"></a>\n",
        "\n",
        "kerja bagus!\n",
        "\n",
        "</div>"
      ]
    },
    {
      "cell_type": "markdown",
      "metadata": {
        "id": "Gts35JPM-qVm"
      },
      "source": [
        "**Apakah terdapat korelasi antara status keluarga dengan pelunasan tepat waktu?**"
      ]
    },
    {
      "cell_type": "code",
      "execution_count": null,
      "metadata": {
        "id": "fNfQmkxn-qVn",
        "outputId": "8a141e9e-f08e-44b5-f504-80a539183ebf"
      },
      "outputs": [
        {
          "name": "stdout",
          "output_type": "stream",
          "text": [
            "  family_status  debt\n",
            "0       married     0\n",
            "1       married     0\n",
            "2       married     0\n",
            "debt                   0    1  percentage\n",
            "family_status                            \n",
            "civil partnership   3763  388        9.35\n",
            "divorced            1110   85        7.11\n",
            "married            11408  931        7.55\n",
            "unmarried           2536  274        9.75\n",
            "widow / widower      896   63        6.57\n"
          ]
        }
      ],
      "source": [
        "# Periksa data status keluarga dan pelunasan tepat waktu\n",
        "print(cs[['family_status','debt']].head(3))\n",
        "\n",
        "\n",
        "# Hitung gagal bayar berdasarkan status keluarga\n",
        "pivot_family = pd.pivot_table(cs, index = 'family_status' , columns ='debt' , values='education', aggfunc = 'count')\n",
        "pivot_family['percentage'] = round(pivot_family[1] / (pivot_family[1]+ pivot_family[0])*100,2)\n",
        "print(pivot_family)\n"
      ]
    },
    {
      "cell_type": "markdown",
      "metadata": {
        "id": "K2kgGTxl-qVn"
      },
      "source": [
        "**Kesimpulan**\n",
        "\n",
        "[Tulis kesimpulan Anda berdasarkan manipulasi dan pengamatan Anda.]\n",
        "\n",
        "status keluarga tidak memengaruhi telat bayar atau tidak"
      ]
    },
    {
      "cell_type": "markdown",
      "metadata": {
        "id": "yvsM_fgG-qVn"
      },
      "source": [
        "<div class=\"alert alert-success\">\n",
        "<b>Chamdani's comment v.1</b> <a class=\"tocSkip\"></a>\n",
        "\n",
        "kerja bagus!\n",
        "\n",
        "</div>"
      ]
    },
    {
      "cell_type": "markdown",
      "metadata": {
        "id": "xLXinPsP-qVo"
      },
      "source": [
        "**Apakah terdapat korelasi antara tingkat pendapatan dengan membayar kembali tepat waktu?**"
      ]
    },
    {
      "cell_type": "code",
      "execution_count": null,
      "metadata": {
        "id": "-89SCOeg-qVo",
        "outputId": "0ba86278-8c66-456b-ef96-cb624f37c4d9"
      },
      "outputs": [
        {
          "name": "stdout",
          "output_type": "stream",
          "text": [
            "  income_level  debt\n",
            "0  High Income     0\n",
            "1  High Income     0\n",
            "\n",
            "debt                     0     1  percentage\n",
            "income_level                                \n",
            "High Income          17758  1587        8.20\n",
            "Lower Middle Income      8     1       11.11\n",
            "Upper Middle Income   1947   153        7.29\n"
          ]
        }
      ],
      "source": [
        "# Periksa data tingkat pendapatan dan pelunasan tepat waktu\n",
        "print(cs[['income_level','debt']].head(2))\n",
        "print()\n",
        "\n",
        "# Hitung gagal bayar berdasarkan tingkat pendapatan\n",
        "pivot_income = pd.pivot_table(cs, index = 'income_level' , columns ='debt' , values='education', aggfunc = 'count')\n",
        "pivot_income['percentage'] = round(pivot_income[1] / (pivot_income[1]+ pivot_income[0])*100,2)\n",
        "print(pivot_income)\n"
      ]
    },
    {
      "cell_type": "markdown",
      "metadata": {
        "id": "MPtGD11c-qVo"
      },
      "source": [
        "**Kesimpulan**\n",
        "\n",
        "[Tulis kesimpulan Anda berdasarkan manipulasi dan pengamatan Anda.]\n",
        "tingkat penghasulan yang rendah kemungkinan besar akan gagal membayar daripada tingkat penghasilan menengah dan tinggi"
      ]
    },
    {
      "cell_type": "markdown",
      "metadata": {
        "id": "0LISSRr--qVp"
      },
      "source": [
        "<div class=\"alert alert-success\">\n",
        "<b>Chamdani's comment v.1</b> <a class=\"tocSkip\"></a>\n",
        "\n",
        "kerja bagus!\n",
        "\n",
        "</div>"
      ]
    },
    {
      "cell_type": "markdown",
      "metadata": {
        "id": "OZ87SC9j-qVp"
      },
      "source": [
        "**Bagaimana tujuan kredit memengaruhi tingkat gagal bayar?**"
      ]
    },
    {
      "cell_type": "code",
      "execution_count": null,
      "metadata": {
        "id": "jYyLcDll-qVp",
        "outputId": "50ccf547-cb13-426f-cd0e-5170b04f559f"
      },
      "outputs": [
        {
          "name": "stdout",
          "output_type": "stream",
          "text": [
            "debt                 0    1  percentage\n",
            "purpose_category                       \n",
            "renovation         572   35        5.77\n",
            "property          8837  692        7.26\n",
            "wedding           2138  186        8.00\n",
            "education         3248  319        8.94\n",
            "car               3903  403        9.36\n",
            "other             1015  106        9.46\n"
          ]
        }
      ],
      "source": [
        "# Periksa persentase tingkat gagal bayar untuk setiap tujuan kredit dan lakukan penganalisisan\n",
        "pivot_purpose = pd.pivot_table(cs, index = 'purpose_category' , columns ='debt' , values='education', aggfunc = 'count')\n",
        "pivot_purpose['percentage'] = round(pivot_purpose[1] / (pivot_purpose[1]+ pivot_purpose[0])*100,2)\n",
        "print(pivot_purpose.sort_values('percentage'))\n"
      ]
    },
    {
      "cell_type": "markdown",
      "metadata": {
        "id": "Cx5AQY2O-qVq"
      },
      "source": [
        "**Kesimpulan**\n",
        "\n",
        "[Tulis kesimpulan Anda berdasarkan manipulasi dan pengamatan yang Anda lakukan.]\n",
        "\n",
        "orang yang meminjam uang untuk membeli mobil memiliki tingkat gagal bayar paling besar"
      ]
    },
    {
      "cell_type": "markdown",
      "metadata": {
        "id": "Vy9iP4ZU-qVr"
      },
      "source": [
        "<div class=\"alert alert-success\">\n",
        "<b>Chamdani's comment v.1</b> <a class=\"tocSkip\"></a>\n",
        "\n",
        "kerja bagus!\n",
        "\n",
        "</div>"
      ]
    },
    {
      "cell_type": "markdown",
      "metadata": {
        "id": "MAAYGzcx-qVr"
      },
      "source": [
        "# Kesimpulan umum \n",
        "\n",
        "[Tuliskan kesimpulan Anda di bagian akhir ini. Pastikan Anda memasukkan semua kesimpulan penting yang telah Anda buat berkaitan dengan cara Anda memproses dan menganalisis data. Kesimpulan tersebut harus membahas nilai yang hilang, duplikat, dan kemungkinan alasan serta solusi untuk data bermasalah yang harus Anda tangani.]\n",
        "\n",
        "berdasarkan pengecekan data untuk hipotesis, didapatkan beberapa kesimpulan yaitu\n",
        "jumlah anak memengaruhi \n",
        "\n",
        "[Tuliskan juga kesimpulan Anda mengenai pertanyaan-pertanyaan yang diajukan di sini.]\n"
      ]
    },
    {
      "cell_type": "markdown",
      "metadata": {
        "id": "d28QLYJn-qVr"
      },
      "source": [
        "<div class=\"alert alert-info\">\n",
        "<b>Student answer</b> <a class=\"tocSkip\"></a>\n",
        "\n",
        "Berdasarkan hasil pengecekan data diatas\n",
        "- Jumlah anak menjadi faktor kemungkinan gagal bayar hutang, makin banyak anak makin tinggi kemungkinan tidak bisa bayar hutang\n",
        "- Penghasilan menengah memiliki persentase gagal bayar lebih tinggi\n",
        "- Tujuan hutang untuk edukasi dan membeli mobil memiliki kemungkinan gagal bayar yang tinggi\n",
        "\n",
        "\n",
        "</div>"
      ]
    },
    {
      "cell_type": "markdown",
      "metadata": {
        "id": "U-OI4Mq5-qVs"
      },
      "source": [
        "<div class=\"alert alert-danger\">\n",
        "<b>Chamdani's comment v.1</b> <a class=\"tocSkip\"></a>\n",
        "\n",
        "Untuk kesimpulan umum cobalah untuk menjelaskan keseluruhan proses dan insight mu secara lebih rinci menggunakan kalimat yang naratif. \n",
        "\n",
        "Jelaskan apa yang kamu temukan:\n",
        "* apakah ada nilai yang aneh atau anomali? \n",
        "* bagaimana nilai anomali itu bisa terjadi? \n",
        "* apa saja yang kamu lakukan untuk mengatasi anomali tersebut?\n",
        "* apa yang melandasimu untuk melakukan hal tersebut?\n",
        "* apa insight awal yang kamu harapkan?\n",
        "* apa hasil sebenarnya?\n",
        "\n",
        "</div>"
      ]
    },
    {
      "cell_type": "code",
      "execution_count": null,
      "metadata": {
        "id": "RPLARY_F-qVs"
      },
      "outputs": [],
      "source": []
    }
  ],
  "metadata": {
    "ExecuteTimeLog": [
      {
        "duration": 2741,
        "start_time": "2021-10-21T01:08:49.480Z"
      },
      {
        "duration": 52,
        "start_time": "2021-10-21T01:08:53.315Z"
      },
      {
        "duration": 49,
        "start_time": "2021-10-21T01:08:57.432Z"
      },
      {
        "duration": 70,
        "start_time": "2021-10-21T01:09:07.706Z"
      }
    ],
    "kernelspec": {
      "display_name": "Python 3 (ipykernel)",
      "language": "python",
      "name": "python3"
    },
    "language_info": {
      "codemirror_mode": {
        "name": "ipython",
        "version": 3
      },
      "file_extension": ".py",
      "mimetype": "text/x-python",
      "name": "python",
      "nbconvert_exporter": "python",
      "pygments_lexer": "ipython3",
      "version": "3.9.5"
    },
    "toc": {
      "base_numbering": 1,
      "nav_menu": {},
      "number_sections": true,
      "sideBar": true,
      "skip_h1_title": true,
      "title_cell": "Table of Contents",
      "title_sidebar": "Contents",
      "toc_cell": false,
      "toc_position": {
        "height": "calc(100% - 180px)",
        "left": "10px",
        "top": "150px",
        "width": "188px"
      },
      "toc_section_display": true,
      "toc_window_display": false
    },
    "vscode": {
      "interpreter": {
        "hash": "ef1728426330606e01c1da091626d7dbd7604032247e9790b44969d857c4f729"
      }
    },
    "colab": {
      "provenance": []
    }
  },
  "nbformat": 4,
  "nbformat_minor": 0
}